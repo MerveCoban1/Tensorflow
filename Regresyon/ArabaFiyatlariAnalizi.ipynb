{
 "cells": [
  {
   "cell_type": "markdown",
   "id": "6d74928b",
   "metadata": {},
   "source": [
    "###### Veri Analizi Yapacağız ve bir regresyon problemini çözeceğiz."
   ]
  },
  {
   "cell_type": "code",
   "execution_count": 131,
   "id": "0f00316f",
   "metadata": {},
   "outputs": [],
   "source": [
    "import pandas as pd\n",
    "import numpy as np\n",
    "import matplotlib.pyplot as plt\n",
    "import seaborn as sbn"
   ]
  },
  {
   "cell_type": "code",
   "execution_count": 132,
   "id": "1e39d3ef",
   "metadata": {},
   "outputs": [],
   "source": [
    "dataFrame=pd.read_excel(\"merc.xlsx\")"
   ]
  },
  {
   "cell_type": "code",
   "execution_count": 133,
   "id": "9875c027",
   "metadata": {
    "scrolled": true
   },
   "outputs": [
    {
     "data": {
      "text/html": [
       "<div>\n",
       "<style scoped>\n",
       "    .dataframe tbody tr th:only-of-type {\n",
       "        vertical-align: middle;\n",
       "    }\n",
       "\n",
       "    .dataframe tbody tr th {\n",
       "        vertical-align: top;\n",
       "    }\n",
       "\n",
       "    .dataframe thead th {\n",
       "        text-align: right;\n",
       "    }\n",
       "</style>\n",
       "<table border=\"1\" class=\"dataframe\">\n",
       "  <thead>\n",
       "    <tr style=\"text-align: right;\">\n",
       "      <th></th>\n",
       "      <th>year</th>\n",
       "      <th>price</th>\n",
       "      <th>transmission</th>\n",
       "      <th>mileage</th>\n",
       "      <th>tax</th>\n",
       "      <th>mpg</th>\n",
       "      <th>engineSize</th>\n",
       "    </tr>\n",
       "  </thead>\n",
       "  <tbody>\n",
       "    <tr>\n",
       "      <th>0</th>\n",
       "      <td>2005</td>\n",
       "      <td>5200</td>\n",
       "      <td>Automatic</td>\n",
       "      <td>63000</td>\n",
       "      <td>325</td>\n",
       "      <td>32.1</td>\n",
       "      <td>1.8</td>\n",
       "    </tr>\n",
       "    <tr>\n",
       "      <th>1</th>\n",
       "      <td>2017</td>\n",
       "      <td>34948</td>\n",
       "      <td>Automatic</td>\n",
       "      <td>27000</td>\n",
       "      <td>20</td>\n",
       "      <td>61.4</td>\n",
       "      <td>2.1</td>\n",
       "    </tr>\n",
       "    <tr>\n",
       "      <th>2</th>\n",
       "      <td>2016</td>\n",
       "      <td>49948</td>\n",
       "      <td>Automatic</td>\n",
       "      <td>6200</td>\n",
       "      <td>555</td>\n",
       "      <td>28.0</td>\n",
       "      <td>5.5</td>\n",
       "    </tr>\n",
       "    <tr>\n",
       "      <th>3</th>\n",
       "      <td>2016</td>\n",
       "      <td>61948</td>\n",
       "      <td>Automatic</td>\n",
       "      <td>16000</td>\n",
       "      <td>325</td>\n",
       "      <td>30.4</td>\n",
       "      <td>4.0</td>\n",
       "    </tr>\n",
       "    <tr>\n",
       "      <th>4</th>\n",
       "      <td>2016</td>\n",
       "      <td>73948</td>\n",
       "      <td>Automatic</td>\n",
       "      <td>4000</td>\n",
       "      <td>325</td>\n",
       "      <td>30.1</td>\n",
       "      <td>4.0</td>\n",
       "    </tr>\n",
       "  </tbody>\n",
       "</table>\n",
       "</div>"
      ],
      "text/plain": [
       "   year  price transmission  mileage  tax   mpg  engineSize\n",
       "0  2005   5200    Automatic    63000  325  32.1         1.8\n",
       "1  2017  34948    Automatic    27000   20  61.4         2.1\n",
       "2  2016  49948    Automatic     6200  555  28.0         5.5\n",
       "3  2016  61948    Automatic    16000  325  30.4         4.0\n",
       "4  2016  73948    Automatic     4000  325  30.1         4.0"
      ]
     },
     "execution_count": 133,
     "metadata": {},
     "output_type": "execute_result"
    }
   ],
   "source": [
    "dataFrame.head()"
   ]
  },
  {
   "cell_type": "code",
   "execution_count": 134,
   "id": "60c9598b",
   "metadata": {},
   "outputs": [
    {
     "data": {
      "text/html": [
       "<div>\n",
       "<style scoped>\n",
       "    .dataframe tbody tr th:only-of-type {\n",
       "        vertical-align: middle;\n",
       "    }\n",
       "\n",
       "    .dataframe tbody tr th {\n",
       "        vertical-align: top;\n",
       "    }\n",
       "\n",
       "    .dataframe thead th {\n",
       "        text-align: right;\n",
       "    }\n",
       "</style>\n",
       "<table border=\"1\" class=\"dataframe\">\n",
       "  <thead>\n",
       "    <tr style=\"text-align: right;\">\n",
       "      <th></th>\n",
       "      <th>year</th>\n",
       "      <th>price</th>\n",
       "      <th>mileage</th>\n",
       "      <th>tax</th>\n",
       "      <th>mpg</th>\n",
       "      <th>engineSize</th>\n",
       "    </tr>\n",
       "  </thead>\n",
       "  <tbody>\n",
       "    <tr>\n",
       "      <th>count</th>\n",
       "      <td>13119.000000</td>\n",
       "      <td>13119.000000</td>\n",
       "      <td>13119.000000</td>\n",
       "      <td>13119.000000</td>\n",
       "      <td>13119.000000</td>\n",
       "      <td>13119.000000</td>\n",
       "    </tr>\n",
       "    <tr>\n",
       "      <th>mean</th>\n",
       "      <td>2017.296288</td>\n",
       "      <td>24698.596920</td>\n",
       "      <td>21949.559037</td>\n",
       "      <td>129.972178</td>\n",
       "      <td>55.155843</td>\n",
       "      <td>2.071530</td>\n",
       "    </tr>\n",
       "    <tr>\n",
       "      <th>std</th>\n",
       "      <td>2.224709</td>\n",
       "      <td>11842.675542</td>\n",
       "      <td>21176.512267</td>\n",
       "      <td>65.260286</td>\n",
       "      <td>15.220082</td>\n",
       "      <td>0.572426</td>\n",
       "    </tr>\n",
       "    <tr>\n",
       "      <th>min</th>\n",
       "      <td>1970.000000</td>\n",
       "      <td>650.000000</td>\n",
       "      <td>1.000000</td>\n",
       "      <td>0.000000</td>\n",
       "      <td>1.100000</td>\n",
       "      <td>0.000000</td>\n",
       "    </tr>\n",
       "    <tr>\n",
       "      <th>25%</th>\n",
       "      <td>2016.000000</td>\n",
       "      <td>17450.000000</td>\n",
       "      <td>6097.500000</td>\n",
       "      <td>125.000000</td>\n",
       "      <td>45.600000</td>\n",
       "      <td>1.800000</td>\n",
       "    </tr>\n",
       "    <tr>\n",
       "      <th>50%</th>\n",
       "      <td>2018.000000</td>\n",
       "      <td>22480.000000</td>\n",
       "      <td>15189.000000</td>\n",
       "      <td>145.000000</td>\n",
       "      <td>56.500000</td>\n",
       "      <td>2.000000</td>\n",
       "    </tr>\n",
       "    <tr>\n",
       "      <th>75%</th>\n",
       "      <td>2019.000000</td>\n",
       "      <td>28980.000000</td>\n",
       "      <td>31779.500000</td>\n",
       "      <td>145.000000</td>\n",
       "      <td>64.200000</td>\n",
       "      <td>2.100000</td>\n",
       "    </tr>\n",
       "    <tr>\n",
       "      <th>max</th>\n",
       "      <td>2020.000000</td>\n",
       "      <td>159999.000000</td>\n",
       "      <td>259000.000000</td>\n",
       "      <td>580.000000</td>\n",
       "      <td>217.300000</td>\n",
       "      <td>6.200000</td>\n",
       "    </tr>\n",
       "  </tbody>\n",
       "</table>\n",
       "</div>"
      ],
      "text/plain": [
       "               year          price        mileage           tax           mpg  \\\n",
       "count  13119.000000   13119.000000   13119.000000  13119.000000  13119.000000   \n",
       "mean    2017.296288   24698.596920   21949.559037    129.972178     55.155843   \n",
       "std        2.224709   11842.675542   21176.512267     65.260286     15.220082   \n",
       "min     1970.000000     650.000000       1.000000      0.000000      1.100000   \n",
       "25%     2016.000000   17450.000000    6097.500000    125.000000     45.600000   \n",
       "50%     2018.000000   22480.000000   15189.000000    145.000000     56.500000   \n",
       "75%     2019.000000   28980.000000   31779.500000    145.000000     64.200000   \n",
       "max     2020.000000  159999.000000  259000.000000    580.000000    217.300000   \n",
       "\n",
       "         engineSize  \n",
       "count  13119.000000  \n",
       "mean       2.071530  \n",
       "std        0.572426  \n",
       "min        0.000000  \n",
       "25%        1.800000  \n",
       "50%        2.000000  \n",
       "75%        2.100000  \n",
       "max        6.200000  "
      ]
     },
     "execution_count": 134,
     "metadata": {},
     "output_type": "execute_result"
    }
   ],
   "source": [
    "dataFrame.describe()"
   ]
  },
  {
   "cell_type": "code",
   "execution_count": 135,
   "id": "5e812e0c",
   "metadata": {},
   "outputs": [
    {
     "data": {
      "text/plain": [
       "year            0\n",
       "price           0\n",
       "transmission    0\n",
       "mileage         0\n",
       "tax             0\n",
       "mpg             0\n",
       "engineSize      0\n",
       "dtype: int64"
      ]
     },
     "execution_count": 135,
     "metadata": {},
     "output_type": "execute_result"
    }
   ],
   "source": [
    "dataFrame.isnull().sum()"
   ]
  },
  {
   "cell_type": "code",
   "execution_count": 136,
   "id": "8d5f1809",
   "metadata": {
    "scrolled": true
   },
   "outputs": [
    {
     "data": {
      "text/plain": [
       "<AxesSubplot:xlabel='price', ylabel='Count'>"
      ]
     },
     "execution_count": 136,
     "metadata": {},
     "output_type": "execute_result"
    },
    {
     "data": {
      "image/png": "[encoded data removed]",
      "text/plain": [
       "<Figure size 432x288 with 1 Axes>"
      ]
     },
     "metadata": {
      "needs_background": "light"
     },
     "output_type": "display_data"
    }
   ],
   "source": [
    "sbn.histplot(dataFrame[\"price\"])"
   ]
  },
  {
   "cell_type": "markdown",
   "id": "4e51bbbc",
   "metadata": {},
   "source": [
    "grafikten anlaşıldığı üzere çok pahalı olan az miktarda araba var bu bizim tahminlerimizi kötü etkileyecektir. Bunu iyileştirmenin bir yolu da en pahalı olan arabaların bazılarını veri setimizden çıkarmak"
   ]
  },
  {
   "cell_type": "code",
   "execution_count": 137,
   "id": "886f4ceb",
   "metadata": {
    "scrolled": true
   },
   "outputs": [
    {
     "data": {
      "text/plain": [
       "<AxesSubplot:xlabel='year', ylabel='count'>"
      ]
     },
     "execution_count": 137,
     "metadata": {},
     "output_type": "execute_result"
    },
    {
     "data": {
      "image/png": "[encoded data removed]",
      "text/plain": [
       "<Figure size 432x288 with 1 Axes>"
      ]
     },
     "metadata": {
      "needs_background": "light"
     },
     "output_type": "display_data"
    }
   ],
   "source": [
    "sbn.countplot(x=\"year\",data=dataFrame)"
   ]
  },
  {
   "cell_type": "code",
   "execution_count": 138,
   "id": "84832fa9",
   "metadata": {},
   "outputs": [
    {
     "data": {
      "text/html": [
       "<div>\n",
       "<style scoped>\n",
       "    .dataframe tbody tr th:only-of-type {\n",
       "        vertical-align: middle;\n",
       "    }\n",
       "\n",
       "    .dataframe tbody tr th {\n",
       "        vertical-align: top;\n",
       "    }\n",
       "\n",
       "    .dataframe thead th {\n",
       "        text-align: right;\n",
       "    }\n",
       "</style>\n",
       "<table border=\"1\" class=\"dataframe\">\n",
       "  <thead>\n",
       "    <tr style=\"text-align: right;\">\n",
       "      <th></th>\n",
       "      <th>year</th>\n",
       "      <th>price</th>\n",
       "      <th>mileage</th>\n",
       "      <th>tax</th>\n",
       "      <th>mpg</th>\n",
       "      <th>engineSize</th>\n",
       "    </tr>\n",
       "  </thead>\n",
       "  <tbody>\n",
       "    <tr>\n",
       "      <th>year</th>\n",
       "      <td>1.000000</td>\n",
       "      <td>0.520712</td>\n",
       "      <td>-0.738027</td>\n",
       "      <td>0.012480</td>\n",
       "      <td>-0.094626</td>\n",
       "      <td>-0.142147</td>\n",
       "    </tr>\n",
       "    <tr>\n",
       "      <th>price</th>\n",
       "      <td>0.520712</td>\n",
       "      <td>1.000000</td>\n",
       "      <td>-0.537214</td>\n",
       "      <td>0.268717</td>\n",
       "      <td>-0.438445</td>\n",
       "      <td>0.516126</td>\n",
       "    </tr>\n",
       "    <tr>\n",
       "      <th>mileage</th>\n",
       "      <td>-0.738027</td>\n",
       "      <td>-0.537214</td>\n",
       "      <td>1.000000</td>\n",
       "      <td>-0.160223</td>\n",
       "      <td>0.202850</td>\n",
       "      <td>0.063652</td>\n",
       "    </tr>\n",
       "    <tr>\n",
       "      <th>tax</th>\n",
       "      <td>0.012480</td>\n",
       "      <td>0.268717</td>\n",
       "      <td>-0.160223</td>\n",
       "      <td>1.000000</td>\n",
       "      <td>-0.513742</td>\n",
       "      <td>0.338341</td>\n",
       "    </tr>\n",
       "    <tr>\n",
       "      <th>mpg</th>\n",
       "      <td>-0.094626</td>\n",
       "      <td>-0.438445</td>\n",
       "      <td>0.202850</td>\n",
       "      <td>-0.513742</td>\n",
       "      <td>1.000000</td>\n",
       "      <td>-0.339862</td>\n",
       "    </tr>\n",
       "    <tr>\n",
       "      <th>engineSize</th>\n",
       "      <td>-0.142147</td>\n",
       "      <td>0.516126</td>\n",
       "      <td>0.063652</td>\n",
       "      <td>0.338341</td>\n",
       "      <td>-0.339862</td>\n",
       "      <td>1.000000</td>\n",
       "    </tr>\n",
       "  </tbody>\n",
       "</table>\n",
       "</div>"
      ],
      "text/plain": [
       "                year     price   mileage       tax       mpg  engineSize\n",
       "year        1.000000  0.520712 -0.738027  0.012480 -0.094626   -0.142147\n",
       "price       0.520712  1.000000 -0.537214  0.268717 -0.438445    0.516126\n",
       "mileage    -0.738027 -0.537214  1.000000 -0.160223  0.202850    0.063652\n",
       "tax         0.012480  0.268717 -0.160223  1.000000 -0.513742    0.338341\n",
       "mpg        -0.094626 -0.438445  0.202850 -0.513742  1.000000   -0.339862\n",
       "engineSize -0.142147  0.516126  0.063652  0.338341 -0.339862    1.000000"
      ]
     },
     "execution_count": 138,
     "metadata": {},
     "output_type": "execute_result"
    }
   ],
   "source": [
    "#verilerin birbirleri arasındaki korelasyonuna bakalım\n",
    "dataFrame.corr()"
   ]
  },
  {
   "cell_type": "code",
   "execution_count": 139,
   "id": "e4c2fa5f",
   "metadata": {
    "scrolled": true
   },
   "outputs": [
    {
     "data": {
      "text/plain": [
       "mileage      -0.537214\n",
       "mpg          -0.438445\n",
       "tax           0.268717\n",
       "engineSize    0.516126\n",
       "year          0.520712\n",
       "price         1.000000\n",
       "Name: price, dtype: float64"
      ]
     },
     "execution_count": 139,
     "metadata": {},
     "output_type": "execute_result"
    }
   ],
   "source": [
    "dataFrame.corr()[\"price\"].sort_values()"
   ]
  },
  {
   "cell_type": "markdown",
   "id": "ec54447a",
   "metadata": {},
   "source": [
    "Buradan şunu çıkarabiliz mileage ve mpg arttıkça price azalıyor diğerlerinde artıyor artışı en fazla etkileyen de year "
   ]
  },
  {
   "cell_type": "code",
   "execution_count": 140,
   "id": "47dfa0b6",
   "metadata": {},
   "outputs": [
    {
     "data": {
      "text/plain": [
       "<AxesSubplot:xlabel='mileage', ylabel='price'>"
      ]
     },
     "execution_count": 140,
     "metadata": {},
     "output_type": "execute_result"
    },
    {
     "data": {
      "image/png": "[encoded data removed]",
      "text/plain": [
       "<Figure size 432x288 with 1 Axes>"
      ]
     },
     "metadata": {
      "needs_background": "light"
     },
     "output_type": "display_data"
    }
   ],
   "source": [
    "sbn.scatterplot(x=\"mileage\",y=\"price\",data=dataFrame)"
   ]
  },
  {
   "cell_type": "code",
   "execution_count": 141,
   "id": "4408b21a",
   "metadata": {
    "scrolled": true
   },
   "outputs": [
    {
     "data": {
      "text/html": [
       "<div>\n",
       "<style scoped>\n",
       "    .dataframe tbody tr th:only-of-type {\n",
       "        vertical-align: middle;\n",
       "    }\n",
       "\n",
       "    .dataframe tbody tr th {\n",
       "        vertical-align: top;\n",
       "    }\n",
       "\n",
       "    .dataframe thead th {\n",
       "        text-align: right;\n",
       "    }\n",
       "</style>\n",
       "<table border=\"1\" class=\"dataframe\">\n",
       "  <thead>\n",
       "    <tr style=\"text-align: right;\">\n",
       "      <th></th>\n",
       "      <th>year</th>\n",
       "      <th>price</th>\n",
       "      <th>transmission</th>\n",
       "      <th>mileage</th>\n",
       "      <th>tax</th>\n",
       "      <th>mpg</th>\n",
       "      <th>engineSize</th>\n",
       "    </tr>\n",
       "  </thead>\n",
       "  <tbody>\n",
       "    <tr>\n",
       "      <th>6199</th>\n",
       "      <td>2020</td>\n",
       "      <td>159999</td>\n",
       "      <td>Semi-Auto</td>\n",
       "      <td>1350</td>\n",
       "      <td>145</td>\n",
       "      <td>21.4</td>\n",
       "      <td>4.0</td>\n",
       "    </tr>\n",
       "    <tr>\n",
       "      <th>10044</th>\n",
       "      <td>2020</td>\n",
       "      <td>154998</td>\n",
       "      <td>Automatic</td>\n",
       "      <td>3000</td>\n",
       "      <td>150</td>\n",
       "      <td>21.4</td>\n",
       "      <td>4.0</td>\n",
       "    </tr>\n",
       "    <tr>\n",
       "      <th>5</th>\n",
       "      <td>2011</td>\n",
       "      <td>149948</td>\n",
       "      <td>Automatic</td>\n",
       "      <td>3000</td>\n",
       "      <td>570</td>\n",
       "      <td>21.4</td>\n",
       "      <td>6.2</td>\n",
       "    </tr>\n",
       "    <tr>\n",
       "      <th>8737</th>\n",
       "      <td>2019</td>\n",
       "      <td>140319</td>\n",
       "      <td>Semi-Auto</td>\n",
       "      <td>785</td>\n",
       "      <td>150</td>\n",
       "      <td>22.1</td>\n",
       "      <td>4.0</td>\n",
       "    </tr>\n",
       "    <tr>\n",
       "      <th>6386</th>\n",
       "      <td>2018</td>\n",
       "      <td>139995</td>\n",
       "      <td>Semi-Auto</td>\n",
       "      <td>13046</td>\n",
       "      <td>145</td>\n",
       "      <td>21.4</td>\n",
       "      <td>4.0</td>\n",
       "    </tr>\n",
       "    <tr>\n",
       "      <th>8</th>\n",
       "      <td>2019</td>\n",
       "      <td>139948</td>\n",
       "      <td>Automatic</td>\n",
       "      <td>12000</td>\n",
       "      <td>145</td>\n",
       "      <td>21.4</td>\n",
       "      <td>4.0</td>\n",
       "    </tr>\n",
       "    <tr>\n",
       "      <th>9133</th>\n",
       "      <td>2019</td>\n",
       "      <td>139559</td>\n",
       "      <td>Semi-Auto</td>\n",
       "      <td>1000</td>\n",
       "      <td>145</td>\n",
       "      <td>22.1</td>\n",
       "      <td>4.0</td>\n",
       "    </tr>\n",
       "    <tr>\n",
       "      <th>8821</th>\n",
       "      <td>2020</td>\n",
       "      <td>138439</td>\n",
       "      <td>Semi-Auto</td>\n",
       "      <td>1000</td>\n",
       "      <td>145</td>\n",
       "      <td>22.1</td>\n",
       "      <td>4.0</td>\n",
       "    </tr>\n",
       "    <tr>\n",
       "      <th>5902</th>\n",
       "      <td>2018</td>\n",
       "      <td>135771</td>\n",
       "      <td>Semi-Auto</td>\n",
       "      <td>19000</td>\n",
       "      <td>145</td>\n",
       "      <td>21.4</td>\n",
       "      <td>4.0</td>\n",
       "    </tr>\n",
       "    <tr>\n",
       "      <th>7864</th>\n",
       "      <td>2018</td>\n",
       "      <td>135124</td>\n",
       "      <td>Semi-Auto</td>\n",
       "      <td>18234</td>\n",
       "      <td>150</td>\n",
       "      <td>21.4</td>\n",
       "      <td>4.0</td>\n",
       "    </tr>\n",
       "    <tr>\n",
       "      <th>8673</th>\n",
       "      <td>2019</td>\n",
       "      <td>134219</td>\n",
       "      <td>Semi-Auto</td>\n",
       "      <td>1000</td>\n",
       "      <td>145</td>\n",
       "      <td>24.8</td>\n",
       "      <td>4.0</td>\n",
       "    </tr>\n",
       "    <tr>\n",
       "      <th>6210</th>\n",
       "      <td>2019</td>\n",
       "      <td>129990</td>\n",
       "      <td>Automatic</td>\n",
       "      <td>1000</td>\n",
       "      <td>145</td>\n",
       "      <td>24.8</td>\n",
       "      <td>4.0</td>\n",
       "    </tr>\n",
       "    <tr>\n",
       "      <th>4759</th>\n",
       "      <td>2019</td>\n",
       "      <td>126000</td>\n",
       "      <td>Automatic</td>\n",
       "      <td>250</td>\n",
       "      <td>145</td>\n",
       "      <td>24.6</td>\n",
       "      <td>4.0</td>\n",
       "    </tr>\n",
       "    <tr>\n",
       "      <th>2647</th>\n",
       "      <td>2019</td>\n",
       "      <td>125796</td>\n",
       "      <td>Automatic</td>\n",
       "      <td>637</td>\n",
       "      <td>145</td>\n",
       "      <td>24.8</td>\n",
       "      <td>4.0</td>\n",
       "    </tr>\n",
       "    <tr>\n",
       "      <th>6223</th>\n",
       "      <td>2019</td>\n",
       "      <td>124999</td>\n",
       "      <td>Automatic</td>\n",
       "      <td>1500</td>\n",
       "      <td>145</td>\n",
       "      <td>31.7</td>\n",
       "      <td>4.0</td>\n",
       "    </tr>\n",
       "    <tr>\n",
       "      <th>4094</th>\n",
       "      <td>2019</td>\n",
       "      <td>124366</td>\n",
       "      <td>Semi-Auto</td>\n",
       "      <td>880</td>\n",
       "      <td>145</td>\n",
       "      <td>24.8</td>\n",
       "      <td>4.0</td>\n",
       "    </tr>\n",
       "    <tr>\n",
       "      <th>2629</th>\n",
       "      <td>2019</td>\n",
       "      <td>123846</td>\n",
       "      <td>Semi-Auto</td>\n",
       "      <td>2951</td>\n",
       "      <td>145</td>\n",
       "      <td>22.1</td>\n",
       "      <td>4.0</td>\n",
       "    </tr>\n",
       "    <tr>\n",
       "      <th>7134</th>\n",
       "      <td>2019</td>\n",
       "      <td>115359</td>\n",
       "      <td>Semi-Auto</td>\n",
       "      <td>1000</td>\n",
       "      <td>145</td>\n",
       "      <td>30.1</td>\n",
       "      <td>4.0</td>\n",
       "    </tr>\n",
       "    <tr>\n",
       "      <th>9159</th>\n",
       "      <td>2019</td>\n",
       "      <td>114199</td>\n",
       "      <td>Semi-Auto</td>\n",
       "      <td>891</td>\n",
       "      <td>145</td>\n",
       "      <td>22.6</td>\n",
       "      <td>4.0</td>\n",
       "    </tr>\n",
       "    <tr>\n",
       "      <th>1980</th>\n",
       "      <td>2019</td>\n",
       "      <td>109995</td>\n",
       "      <td>Semi-Auto</td>\n",
       "      <td>4688</td>\n",
       "      <td>150</td>\n",
       "      <td>31.7</td>\n",
       "      <td>4.0</td>\n",
       "    </tr>\n",
       "  </tbody>\n",
       "</table>\n",
       "</div>"
      ],
      "text/plain": [
       "       year   price transmission  mileage  tax   mpg  engineSize\n",
       "6199   2020  159999    Semi-Auto     1350  145  21.4         4.0\n",
       "10044  2020  154998    Automatic     3000  150  21.4         4.0\n",
       "5      2011  149948    Automatic     3000  570  21.4         6.2\n",
       "8737   2019  140319    Semi-Auto      785  150  22.1         4.0\n",
       "6386   2018  139995    Semi-Auto    13046  145  21.4         4.0\n",
       "8      2019  139948    Automatic    12000  145  21.4         4.0\n",
       "9133   2019  139559    Semi-Auto     1000  145  22.1         4.0\n",
       "8821   2020  138439    Semi-Auto     1000  145  22.1         4.0\n",
       "5902   2018  135771    Semi-Auto    19000  145  21.4         4.0\n",
       "7864   2018  135124    Semi-Auto    18234  150  21.4         4.0\n",
       "8673   2019  134219    Semi-Auto     1000  145  24.8         4.0\n",
       "6210   2019  129990    Automatic     1000  145  24.8         4.0\n",
       "4759   2019  126000    Automatic      250  145  24.6         4.0\n",
       "2647   2019  125796    Automatic      637  145  24.8         4.0\n",
       "6223   2019  124999    Automatic     1500  145  31.7         4.0\n",
       "4094   2019  124366    Semi-Auto      880  145  24.8         4.0\n",
       "2629   2019  123846    Semi-Auto     2951  145  22.1         4.0\n",
       "7134   2019  115359    Semi-Auto     1000  145  30.1         4.0\n",
       "9159   2019  114199    Semi-Auto      891  145  22.6         4.0\n",
       "1980   2019  109995    Semi-Auto     4688  150  31.7         4.0"
      ]
     },
     "execution_count": 141,
     "metadata": {},
     "output_type": "execute_result"
    }
   ],
   "source": [
    "dataFrame.sort_values(\"price\",ascending=False).head(20)\n",
    "#en yüksek fiyat en yukarda "
   ]
  },
  {
   "cell_type": "code",
   "execution_count": 142,
   "id": "f3357cd2",
   "metadata": {},
   "outputs": [
    {
     "data": {
      "text/plain": [
       "13119"
      ]
     },
     "execution_count": 142,
     "metadata": {},
     "output_type": "execute_result"
    }
   ],
   "source": [
    "len(dataFrame)"
   ]
  },
  {
   "cell_type": "code",
   "execution_count": 143,
   "id": "c10cae80",
   "metadata": {},
   "outputs": [
    {
     "data": {
      "text/plain": [
       "131.19"
      ]
     },
     "execution_count": 143,
     "metadata": {},
     "output_type": "execute_result"
    }
   ],
   "source": [
    "len(dataFrame)*0.01"
   ]
  },
  {
   "cell_type": "markdown",
   "id": "8dc870f1",
   "metadata": {},
   "source": [
    "en yüksek fiyatlı olan 131 arabayı çıkartmayı deneyelim"
   ]
  },
  {
   "cell_type": "code",
   "execution_count": 144,
   "id": "2d570ec4",
   "metadata": {},
   "outputs": [],
   "source": [
    "yuzdeDoksanDokuzDf=dataFrame.sort_values(\"price\",ascending=False).iloc[131:]"
   ]
  },
  {
   "cell_type": "code",
   "execution_count": 145,
   "id": "e14715f2",
   "metadata": {
    "scrolled": true
   },
   "outputs": [
    {
     "data": {
      "text/html": [
       "<div>\n",
       "<style scoped>\n",
       "    .dataframe tbody tr th:only-of-type {\n",
       "        vertical-align: middle;\n",
       "    }\n",
       "\n",
       "    .dataframe tbody tr th {\n",
       "        vertical-align: top;\n",
       "    }\n",
       "\n",
       "    .dataframe thead th {\n",
       "        text-align: right;\n",
       "    }\n",
       "</style>\n",
       "<table border=\"1\" class=\"dataframe\">\n",
       "  <thead>\n",
       "    <tr style=\"text-align: right;\">\n",
       "      <th></th>\n",
       "      <th>year</th>\n",
       "      <th>price</th>\n",
       "      <th>mileage</th>\n",
       "      <th>tax</th>\n",
       "      <th>mpg</th>\n",
       "      <th>engineSize</th>\n",
       "    </tr>\n",
       "  </thead>\n",
       "  <tbody>\n",
       "    <tr>\n",
       "      <th>count</th>\n",
       "      <td>12988.000000</td>\n",
       "      <td>12988.000000</td>\n",
       "      <td>12988.000000</td>\n",
       "      <td>12988.000000</td>\n",
       "      <td>12988.000000</td>\n",
       "      <td>12988.000000</td>\n",
       "    </tr>\n",
       "    <tr>\n",
       "      <th>mean</th>\n",
       "      <td>2017.281876</td>\n",
       "      <td>24074.926933</td>\n",
       "      <td>22132.741146</td>\n",
       "      <td>129.689714</td>\n",
       "      <td>55.437142</td>\n",
       "      <td>2.050901</td>\n",
       "    </tr>\n",
       "    <tr>\n",
       "      <th>std</th>\n",
       "      <td>2.228515</td>\n",
       "      <td>9866.224575</td>\n",
       "      <td>21196.776401</td>\n",
       "      <td>65.183076</td>\n",
       "      <td>15.025999</td>\n",
       "      <td>0.532596</td>\n",
       "    </tr>\n",
       "    <tr>\n",
       "      <th>min</th>\n",
       "      <td>1970.000000</td>\n",
       "      <td>650.000000</td>\n",
       "      <td>1.000000</td>\n",
       "      <td>0.000000</td>\n",
       "      <td>1.100000</td>\n",
       "      <td>0.000000</td>\n",
       "    </tr>\n",
       "    <tr>\n",
       "      <th>25%</th>\n",
       "      <td>2016.000000</td>\n",
       "      <td>17357.500000</td>\n",
       "      <td>6322.000000</td>\n",
       "      <td>125.000000</td>\n",
       "      <td>45.600000</td>\n",
       "      <td>1.675000</td>\n",
       "    </tr>\n",
       "    <tr>\n",
       "      <th>50%</th>\n",
       "      <td>2018.000000</td>\n",
       "      <td>22299.000000</td>\n",
       "      <td>15369.500000</td>\n",
       "      <td>145.000000</td>\n",
       "      <td>56.500000</td>\n",
       "      <td>2.000000</td>\n",
       "    </tr>\n",
       "    <tr>\n",
       "      <th>75%</th>\n",
       "      <td>2019.000000</td>\n",
       "      <td>28706.000000</td>\n",
       "      <td>31982.250000</td>\n",
       "      <td>145.000000</td>\n",
       "      <td>64.200000</td>\n",
       "      <td>2.100000</td>\n",
       "    </tr>\n",
       "    <tr>\n",
       "      <th>max</th>\n",
       "      <td>2020.000000</td>\n",
       "      <td>65990.000000</td>\n",
       "      <td>259000.000000</td>\n",
       "      <td>580.000000</td>\n",
       "      <td>217.300000</td>\n",
       "      <td>6.200000</td>\n",
       "    </tr>\n",
       "  </tbody>\n",
       "</table>\n",
       "</div>"
      ],
      "text/plain": [
       "               year         price        mileage           tax           mpg  \\\n",
       "count  12988.000000  12988.000000   12988.000000  12988.000000  12988.000000   \n",
       "mean    2017.281876  24074.926933   22132.741146    129.689714     55.437142   \n",
       "std        2.228515   9866.224575   21196.776401     65.183076     15.025999   \n",
       "min     1970.000000    650.000000       1.000000      0.000000      1.100000   \n",
       "25%     2016.000000  17357.500000    6322.000000    125.000000     45.600000   \n",
       "50%     2018.000000  22299.000000   15369.500000    145.000000     56.500000   \n",
       "75%     2019.000000  28706.000000   31982.250000    145.000000     64.200000   \n",
       "max     2020.000000  65990.000000  259000.000000    580.000000    217.300000   \n",
       "\n",
       "         engineSize  \n",
       "count  12988.000000  \n",
       "mean       2.050901  \n",
       "std        0.532596  \n",
       "min        0.000000  \n",
       "25%        1.675000  \n",
       "50%        2.000000  \n",
       "75%        2.100000  \n",
       "max        6.200000  "
      ]
     },
     "execution_count": 145,
     "metadata": {},
     "output_type": "execute_result"
    }
   ],
   "source": [
    "yuzdeDoksanDokuzDf.describe()"
   ]
  },
  {
   "cell_type": "code",
   "execution_count": 146,
   "id": "c8c04579",
   "metadata": {
    "scrolled": true
   },
   "outputs": [
    {
     "data": {
      "text/plain": [
       "<seaborn.axisgrid.FacetGrid at 0x13e75c0fbe0>"
      ]
     },
     "execution_count": 146,
     "metadata": {},
     "output_type": "execute_result"
    },
    {
     "data": {
      "text/plain": [
       "<Figure size 504x360 with 0 Axes>"
      ]
     },
     "metadata": {},
     "output_type": "display_data"
    },
    {
     "data": {
      "image/png": "[encoded data removed]",
      "text/plain": [
       "<Figure size 360x360 with 1 Axes>"
      ]
     },
     "metadata": {
      "needs_background": "light"
     },
     "output_type": "display_data"
    }
   ],
   "source": [
    "plt.figure(figsize=(7,5))\n",
    "sbn.displot(yuzdeDoksanDokuzDf[\"price\"])"
   ]
  },
  {
   "cell_type": "code",
   "execution_count": 147,
   "id": "8b782dde",
   "metadata": {
    "scrolled": true
   },
   "outputs": [
    {
     "data": {
      "text/plain": [
       "year\n",
       "1970    24999.000000\n",
       "1997     9995.000000\n",
       "1998     8605.000000\n",
       "1999     5995.000000\n",
       "2000     5743.333333\n",
       "2001     4957.900000\n",
       "2002     5820.444444\n",
       "2003     4878.000000\n",
       "2004     4727.615385\n",
       "2005     4426.111111\n",
       "2006     4036.875000\n",
       "2007     5136.045455\n",
       "2008     6967.437500\n",
       "2009     6166.764706\n",
       "2010     8308.473684\n",
       "2011    12624.894737\n",
       "2012    10845.140351\n",
       "2013    11939.842466\n",
       "2014    14042.936864\n",
       "2015    16731.780020\n",
       "2016    19307.892948\n",
       "2017    21514.307854\n",
       "2018    25720.162918\n",
       "2019    31290.020865\n",
       "2020    35433.282337\n",
       "Name: price, dtype: float64"
      ]
     },
     "execution_count": 147,
     "metadata": {},
     "output_type": "execute_result"
    }
   ],
   "source": [
    "dataFrame.groupby(\"year\").mean()[\"price\"]"
   ]
  },
  {
   "cell_type": "code",
   "execution_count": 148,
   "id": "e5a1348f",
   "metadata": {},
   "outputs": [
    {
     "data": {
      "text/plain": [
       "year\n",
       "1970    24999.000000\n",
       "1997     9995.000000\n",
       "1998     8605.000000\n",
       "1999     5995.000000\n",
       "2000     5743.333333\n",
       "2001     4957.900000\n",
       "2002     5820.444444\n",
       "2003     4878.000000\n",
       "2004     4727.615385\n",
       "2005     4426.111111\n",
       "2006     4036.875000\n",
       "2007     5136.045455\n",
       "2008     6967.437500\n",
       "2009     6166.764706\n",
       "2010     8308.473684\n",
       "2011     8913.459459\n",
       "2012    10845.140351\n",
       "2013    11939.842466\n",
       "2014    14042.936864\n",
       "2015    16647.822222\n",
       "2016    19223.558943\n",
       "2017    21356.280421\n",
       "2018    24800.844506\n",
       "2019    30289.524832\n",
       "2020    34234.794872\n",
       "Name: price, dtype: float64"
      ]
     },
     "execution_count": 148,
     "metadata": {},
     "output_type": "execute_result"
    }
   ],
   "source": [
    "yuzdeDoksanDokuzDf.groupby(\"year\").mean()[\"price\"]"
   ]
  },
  {
   "cell_type": "markdown",
   "id": "97706c06",
   "metadata": {},
   "source": [
    "İstediğimiz bir yılı dataFrame'imizden atmak istediğimizi varsayalım:"
   ]
  },
  {
   "cell_type": "code",
   "execution_count": 149,
   "id": "2a1a2cac",
   "metadata": {},
   "outputs": [],
   "source": [
    "dataFrame=yuzdeDoksanDokuzDf #dataFrameimizin %1'inin atıldığı haliyle çalışalım artık"
   ]
  },
  {
   "cell_type": "code",
   "execution_count": 150,
   "id": "f8a8ac8f",
   "metadata": {},
   "outputs": [],
   "source": [
    "dataFrame=dataFrame[dataFrame.year != 1970] #1970 yıllarını da atıyoruz dataFrame'imizden"
   ]
  },
  {
   "cell_type": "code",
   "execution_count": 151,
   "id": "9d088eb0",
   "metadata": {
    "scrolled": true
   },
   "outputs": [
    {
     "data": {
      "text/plain": [
       "year\n",
       "1997     9995.000000\n",
       "1998     8605.000000\n",
       "1999     5995.000000\n",
       "2000     5743.333333\n",
       "2001     4957.900000\n",
       "2002     5820.444444\n",
       "2003     4878.000000\n",
       "2004     4727.615385\n",
       "2005     4426.111111\n",
       "2006     4036.875000\n",
       "2007     5136.045455\n",
       "2008     6967.437500\n",
       "2009     6166.764706\n",
       "2010     8308.473684\n",
       "2011     8913.459459\n",
       "2012    10845.140351\n",
       "2013    11939.842466\n",
       "2014    14042.936864\n",
       "2015    16647.822222\n",
       "2016    19223.558943\n",
       "2017    21356.280421\n",
       "2018    24800.844506\n",
       "2019    30289.524832\n",
       "2020    34234.794872\n",
       "Name: price, dtype: float64"
      ]
     },
     "execution_count": 151,
     "metadata": {},
     "output_type": "execute_result"
    }
   ],
   "source": [
    "dataFrame.groupby(\"year\").mean()[\"price\"]"
   ]
  },
  {
   "cell_type": "markdown",
   "id": "cbeeb8b6",
   "metadata": {},
   "source": [
    "dataFrameimizde transmission adından bir sütun var değerleri numerik olmadığı için regresyona sokarsak hata verir o yüzden silelim"
   ]
  },
  {
   "cell_type": "code",
   "execution_count": 152,
   "id": "17453ff9",
   "metadata": {},
   "outputs": [],
   "source": [
    "dataFrame=dataFrame.drop(\"transmission\",axis=1) #axis=1 column'u ifade eder"
   ]
  },
  {
   "cell_type": "markdown",
   "id": "5887e41d",
   "metadata": {},
   "source": [
    "### Artık regresyona girmeye hazırız"
   ]
  },
  {
   "cell_type": "code",
   "execution_count": 153,
   "id": "75780f6c",
   "metadata": {},
   "outputs": [],
   "source": [
    "y=dataFrame[\"price\"].values\n",
    "x=dataFrame.drop(\"price\",axis=1).values"
   ]
  },
  {
   "cell_type": "code",
   "execution_count": 154,
   "id": "3ec73d32",
   "metadata": {},
   "outputs": [],
   "source": [
    "from sklearn.model_selection import train_test_split\n",
    "#dizilerimizi eğiteceğimiz ve test yapacağımız dizilere bölmemize yardımcı oluyor."
   ]
  },
  {
   "cell_type": "code",
   "execution_count": 155,
   "id": "a0f41129",
   "metadata": {},
   "outputs": [],
   "source": [
    "x_train, x_test, y_train, y_test=train_test_split(x,y,test_size=0.3,random_state=10)\n",
    "#random_state'i rastgele verebiliriz ancak aynı rastgele verileri tekrar almak istiyorsan aynı değeri kullanmalısın"
   ]
  },
  {
   "cell_type": "code",
   "execution_count": 156,
   "id": "d32c145b",
   "metadata": {},
   "outputs": [
    {
     "data": {
      "text/plain": [
       "9090"
      ]
     },
     "execution_count": 156,
     "metadata": {},
     "output_type": "execute_result"
    }
   ],
   "source": [
    "len(x_train)"
   ]
  },
  {
   "cell_type": "code",
   "execution_count": 157,
   "id": "03f55d29",
   "metadata": {},
   "outputs": [
    {
     "data": {
      "text/plain": [
       "3897"
      ]
     },
     "execution_count": 157,
     "metadata": {},
     "output_type": "execute_result"
    }
   ],
   "source": [
    "len(x_test)"
   ]
  },
  {
   "cell_type": "markdown",
   "id": "4e688afd",
   "metadata": {},
   "source": [
    "Scaling işlemimizi yapalım:"
   ]
  },
  {
   "cell_type": "code",
   "execution_count": 158,
   "id": "27cbe83f",
   "metadata": {},
   "outputs": [],
   "source": [
    "from sklearn.preprocessing import MinMaxScaler"
   ]
  },
  {
   "cell_type": "code",
   "execution_count": 159,
   "id": "aa1f8312",
   "metadata": {},
   "outputs": [],
   "source": [
    "scaler=MinMaxScaler()"
   ]
  },
  {
   "cell_type": "code",
   "execution_count": 160,
   "id": "49bf0112",
   "metadata": {},
   "outputs": [],
   "source": [
    "x_train=scaler.fit_transform(x_train)\n",
    "x_test=scaler.fit_transform(x_test)\n",
    "#ulaşmak istediğimiz değeri scale etmemize gereke yok"
   ]
  },
  {
   "cell_type": "code",
   "execution_count": 161,
   "id": "b60ad2c5",
   "metadata": {},
   "outputs": [],
   "source": [
    "from tensorflow.keras.models import Sequential\n",
    "from tensorflow.keras.layers import Dense\n",
    "#dense layer: bütun bu nöronların outputların birbirine bağlı olduğu bir katman çeşidi"
   ]
  },
  {
   "cell_type": "code",
   "execution_count": 162,
   "id": "1899df9e",
   "metadata": {},
   "outputs": [
    {
     "data": {
      "text/plain": [
       "(9090, 5)"
      ]
     },
     "execution_count": 162,
     "metadata": {},
     "output_type": "execute_result"
    }
   ],
   "source": [
    "x_train.shape"
   ]
  },
  {
   "cell_type": "code",
   "execution_count": 163,
   "id": "59edf655",
   "metadata": {},
   "outputs": [],
   "source": [
    "model=Sequential()\n",
    "\n",
    "#12: nöron sayımız\n",
    "model.add(Dense(14,activation=\"relu\"))\n",
    "model.add(Dense(14,activation=\"relu\"))\n",
    "model.add(Dense(14,activation=\"relu\"))\n",
    "model.add(Dense(14,activation=\"relu\"))\n",
    "#4 adet katman ekledik modelimize\n",
    "\n",
    "#son olarak çıkış katmanımızı ekleyelim\n",
    "model.add(Dense(1))\n",
    "\n",
    "model.compile(optimizer=\"adam\",loss=\"mse\")"
   ]
  },
  {
   "cell_type": "markdown",
   "id": "d987e256",
   "metadata": {},
   "source": [
    "Gelelim artık modeli eğitmeye.."
   ]
  },
  {
   "cell_type": "code",
   "execution_count": 164,
   "id": "0bf8ec35",
   "metadata": {},
   "outputs": [
    {
     "name": "stdout",
     "output_type": "stream",
     "text": [
      "Epoch 1/300\n",
      "37/37 [==============================] - 0s 5ms/step - loss: 672140800.0000 - val_loss: 688095616.0000\n",
      "Epoch 2/300\n",
      "37/37 [==============================] - 0s 4ms/step - loss: 672111552.0000 - val_loss: 688045248.0000\n",
      "Epoch 3/300\n",
      "37/37 [==============================] - 0s 4ms/step - loss: 672016448.0000 - val_loss: 687865024.0000\n",
      "Epoch 4/300\n",
      "37/37 [==============================] - 0s 4ms/step - loss: 671654208.0000 - val_loss: 687187712.0000\n",
      "Epoch 5/300\n",
      "37/37 [==============================] - 0s 4ms/step - loss: 670468736.0000 - val_loss: 685171264.0000\n",
      "Epoch 6/300\n",
      "37/37 [==============================] - 0s 4ms/step - loss: 667194112.0000 - val_loss: 679922048.0000\n",
      "Epoch 7/300\n",
      "37/37 [==============================] - 0s 3ms/step - loss: 659417024.0000 - val_loss: 668360832.0000\n",
      "Epoch 8/300\n",
      "37/37 [==============================] - 0s 4ms/step - loss: 643580608.0000 - val_loss: 646330304.0000\n",
      "Epoch 9/300\n",
      "37/37 [==============================] - 0s 4ms/step - loss: 615083904.0000 - val_loss: 608454464.0000\n",
      "Epoch 10/300\n",
      "37/37 [==============================] - 0s 4ms/step - loss: 568528256.0000 - val_loss: 549334912.0000\n",
      "Epoch 11/300\n",
      "37/37 [==============================] - 0s 4ms/step - loss: 499601024.0000 - val_loss: 466731392.0000\n",
      "Epoch 12/300\n",
      "37/37 [==============================] - 0s 4ms/step - loss: 409033824.0000 - val_loss: 365155552.0000\n",
      "Epoch 13/300\n",
      "37/37 [==============================] - 0s 4ms/step - loss: 305368480.0000 - val_loss: 258824688.0000\n",
      "Epoch 14/300\n",
      "37/37 [==============================] - 0s 3ms/step - loss: 207534544.0000 - val_loss: 170443216.0000\n",
      "Epoch 15/300\n",
      "37/37 [==============================] - 0s 4ms/step - loss: 136903904.0000 - val_loss: 117670280.0000\n",
      "Epoch 16/300\n",
      "37/37 [==============================] - 0s 4ms/step - loss: 101422032.0000 - val_loss: 97595056.0000\n",
      "Epoch 17/300\n",
      "37/37 [==============================] - 0s 5ms/step - loss: 90138632.0000 - val_loss: 92411736.0000\n",
      "Epoch 18/300\n",
      "37/37 [==============================] - 0s 5ms/step - loss: 87563072.0000 - val_loss: 90949336.0000\n",
      "Epoch 19/300\n",
      "37/37 [==============================] - 0s 4ms/step - loss: 86670592.0000 - val_loss: 90018944.0000\n",
      "Epoch 20/300\n",
      "37/37 [==============================] - 0s 4ms/step - loss: 86012288.0000 - val_loss: 89188856.0000\n",
      "Epoch 21/300\n",
      "37/37 [==============================] - 0s 5ms/step - loss: 85400912.0000 - val_loss: 88405704.0000\n",
      "Epoch 22/300\n",
      "37/37 [==============================] - 0s 4ms/step - loss: 84824808.0000 - val_loss: 87656080.0000\n",
      "Epoch 23/300\n",
      "37/37 [==============================] - 0s 3ms/step - loss: 84257648.0000 - val_loss: 86943760.0000\n",
      "Epoch 24/300\n",
      "37/37 [==============================] - 0s 5ms/step - loss: 83706912.0000 - val_loss: 86258440.0000\n",
      "Epoch 25/300\n",
      "37/37 [==============================] - 0s 5ms/step - loss: 83176368.0000 - val_loss: 85560272.0000\n",
      "Epoch 26/300\n",
      "37/37 [==============================] - 0s 5ms/step - loss: 82654888.0000 - val_loss: 84908576.0000\n",
      "Epoch 27/300\n",
      "37/37 [==============================] - 0s 4ms/step - loss: 82135768.0000 - val_loss: 84264488.0000\n",
      "Epoch 28/300\n",
      "37/37 [==============================] - 0s 3ms/step - loss: 81642536.0000 - val_loss: 83610648.0000\n",
      "Epoch 29/300\n",
      "37/37 [==============================] - 0s 4ms/step - loss: 81127312.0000 - val_loss: 83005624.0000\n",
      "Epoch 30/300\n",
      "37/37 [==============================] - 0s 4ms/step - loss: 80627160.0000 - val_loss: 82374752.0000\n",
      "Epoch 31/300\n",
      "37/37 [==============================] - 0s 4ms/step - loss: 80138408.0000 - val_loss: 81769080.0000\n",
      "Epoch 32/300\n",
      "37/37 [==============================] - 0s 3ms/step - loss: 79650144.0000 - val_loss: 81145152.0000\n",
      "Epoch 33/300\n",
      "37/37 [==============================] - 0s 3ms/step - loss: 79152344.0000 - val_loss: 80540784.0000\n",
      "Epoch 34/300\n",
      "37/37 [==============================] - 0s 4ms/step - loss: 78673488.0000 - val_loss: 79975640.0000\n",
      "Epoch 35/300\n",
      "37/37 [==============================] - 0s 5ms/step - loss: 78189152.0000 - val_loss: 79367496.0000\n",
      "Epoch 36/300\n",
      "37/37 [==============================] - 0s 5ms/step - loss: 77693840.0000 - val_loss: 78734568.0000\n",
      "Epoch 37/300\n",
      "37/37 [==============================] - 0s 5ms/step - loss: 77215312.0000 - val_loss: 78154808.0000\n",
      "Epoch 38/300\n",
      "37/37 [==============================] - 0s 5ms/step - loss: 76726304.0000 - val_loss: 77559208.0000\n",
      "Epoch 39/300\n",
      "37/37 [==============================] - 0s 5ms/step - loss: 76237984.0000 - val_loss: 77014912.0000\n",
      "Epoch 40/300\n",
      "37/37 [==============================] - 0s 5ms/step - loss: 75747648.0000 - val_loss: 76413960.0000\n",
      "Epoch 41/300\n",
      "37/37 [==============================] - 0s 5ms/step - loss: 75263736.0000 - val_loss: 75791232.0000\n",
      "Epoch 42/300\n",
      "37/37 [==============================] - 0s 5ms/step - loss: 74769800.0000 - val_loss: 75231344.0000\n",
      "Epoch 43/300\n",
      "37/37 [==============================] - 0s 5ms/step - loss: 74299192.0000 - val_loss: 74670696.0000\n",
      "Epoch 44/300\n",
      "37/37 [==============================] - 0s 5ms/step - loss: 73799336.0000 - val_loss: 74059824.0000\n",
      "Epoch 45/300\n",
      "37/37 [==============================] - 0s 5ms/step - loss: 73321440.0000 - val_loss: 73450368.0000\n",
      "Epoch 46/300\n",
      "37/37 [==============================] - 0s 5ms/step - loss: 72801800.0000 - val_loss: 72864872.0000\n",
      "Epoch 47/300\n",
      "37/37 [==============================] - 0s 4ms/step - loss: 72303544.0000 - val_loss: 72268896.0000\n",
      "Epoch 48/300\n",
      "37/37 [==============================] - 0s 4ms/step - loss: 71796592.0000 - val_loss: 71684872.0000\n",
      "Epoch 49/300\n",
      "37/37 [==============================] - 0s 4ms/step - loss: 71301168.0000 - val_loss: 71089672.0000\n",
      "Epoch 50/300\n",
      "37/37 [==============================] - 0s 3ms/step - loss: 70785504.0000 - val_loss: 70479456.0000\n",
      "Epoch 51/300\n",
      "37/37 [==============================] - 0s 3ms/step - loss: 70284008.0000 - val_loss: 69839304.0000\n",
      "Epoch 52/300\n",
      "37/37 [==============================] - 0s 4ms/step - loss: 69769696.0000 - val_loss: 69228888.0000\n",
      "Epoch 53/300\n",
      "37/37 [==============================] - 0s 5ms/step - loss: 69230960.0000 - val_loss: 68658328.0000\n",
      "Epoch 54/300\n",
      "37/37 [==============================] - 0s 5ms/step - loss: 68711464.0000 - val_loss: 68051992.0000\n",
      "Epoch 55/300\n",
      "37/37 [==============================] - 0s 4ms/step - loss: 68170576.0000 - val_loss: 67379728.0000\n",
      "Epoch 56/300\n",
      "37/37 [==============================] - 0s 4ms/step - loss: 67635520.0000 - val_loss: 66779424.0000\n",
      "Epoch 57/300\n",
      "37/37 [==============================] - 0s 5ms/step - loss: 67086888.0000 - val_loss: 66127920.0000\n",
      "Epoch 58/300\n",
      "37/37 [==============================] - 0s 4ms/step - loss: 66537120.0000 - val_loss: 65525492.0000\n",
      "Epoch 59/300\n",
      "37/37 [==============================] - 0s 4ms/step - loss: 65979900.0000 - val_loss: 64835136.0000\n",
      "Epoch 60/300\n",
      "37/37 [==============================] - 0s 4ms/step - loss: 65433356.0000 - val_loss: 64180560.0000\n",
      "Epoch 61/300\n",
      "37/37 [==============================] - 0s 4ms/step - loss: 64846352.0000 - val_loss: 63533132.0000\n",
      "Epoch 62/300\n",
      "37/37 [==============================] - 0s 4ms/step - loss: 64263320.0000 - val_loss: 62970544.0000\n",
      "Epoch 63/300\n",
      "37/37 [==============================] - 0s 3ms/step - loss: 63675960.0000 - val_loss: 62212116.0000\n",
      "Epoch 64/300\n",
      "37/37 [==============================] - 0s 4ms/step - loss: 63083600.0000 - val_loss: 61521776.0000\n",
      "Epoch 65/300\n",
      "37/37 [==============================] - 0s 4ms/step - loss: 62488084.0000 - val_loss: 60828888.0000\n",
      "Epoch 66/300\n",
      "37/37 [==============================] - 0s 4ms/step - loss: 61872928.0000 - val_loss: 60188420.0000\n",
      "Epoch 67/300\n",
      "37/37 [==============================] - 0s 3ms/step - loss: 61232448.0000 - val_loss: 59384668.0000\n",
      "Epoch 68/300\n",
      "37/37 [==============================] - 0s 3ms/step - loss: 60596916.0000 - val_loss: 58810116.0000\n",
      "Epoch 69/300\n",
      "37/37 [==============================] - 0s 4ms/step - loss: 59963072.0000 - val_loss: 58127280.0000\n",
      "Epoch 70/300\n",
      "37/37 [==============================] - 0s 4ms/step - loss: 59311652.0000 - val_loss: 57459932.0000\n",
      "Epoch 71/300\n",
      "37/37 [==============================] - 0s 3ms/step - loss: 58631188.0000 - val_loss: 56550068.0000\n",
      "Epoch 72/300\n"
     ]
    },
    {
     "name": "stdout",
     "output_type": "stream",
     "text": [
      "37/37 [==============================] - 0s 4ms/step - loss: 57957612.0000 - val_loss: 55855000.0000\n",
      "Epoch 73/300\n",
      "37/37 [==============================] - 0s 2ms/step - loss: 57278276.0000 - val_loss: 55044020.0000\n",
      "Epoch 74/300\n",
      "37/37 [==============================] - 0s 4ms/step - loss: 56571856.0000 - val_loss: 54381936.0000\n",
      "Epoch 75/300\n",
      "37/37 [==============================] - 0s 3ms/step - loss: 55857848.0000 - val_loss: 53486224.0000\n",
      "Epoch 76/300\n",
      "37/37 [==============================] - 0s 3ms/step - loss: 55157940.0000 - val_loss: 52720080.0000\n",
      "Epoch 77/300\n",
      "37/37 [==============================] - 0s 3ms/step - loss: 54403580.0000 - val_loss: 52122248.0000\n",
      "Epoch 78/300\n",
      "37/37 [==============================] - 0s 3ms/step - loss: 53665172.0000 - val_loss: 51183816.0000\n",
      "Epoch 79/300\n",
      "37/37 [==============================] - 0s 3ms/step - loss: 52904652.0000 - val_loss: 50446700.0000\n",
      "Epoch 80/300\n",
      "37/37 [==============================] - 0s 3ms/step - loss: 52144720.0000 - val_loss: 49694528.0000\n",
      "Epoch 81/300\n",
      "37/37 [==============================] - 0s 3ms/step - loss: 51376412.0000 - val_loss: 48936252.0000\n",
      "Epoch 82/300\n",
      "37/37 [==============================] - 0s 3ms/step - loss: 50585960.0000 - val_loss: 48049008.0000\n",
      "Epoch 83/300\n",
      "37/37 [==============================] - 0s 3ms/step - loss: 49812628.0000 - val_loss: 47275284.0000\n",
      "Epoch 84/300\n",
      "37/37 [==============================] - 0s 4ms/step - loss: 48990592.0000 - val_loss: 46536276.0000\n",
      "Epoch 85/300\n",
      "37/37 [==============================] - 0s 3ms/step - loss: 48179532.0000 - val_loss: 45682428.0000\n",
      "Epoch 86/300\n",
      "37/37 [==============================] - 0s 4ms/step - loss: 47366856.0000 - val_loss: 44954124.0000\n",
      "Epoch 87/300\n",
      "37/37 [==============================] - 0s 4ms/step - loss: 46550600.0000 - val_loss: 44270984.0000\n",
      "Epoch 88/300\n",
      "37/37 [==============================] - 0s 4ms/step - loss: 45704580.0000 - val_loss: 43114584.0000\n",
      "Epoch 89/300\n",
      "37/37 [==============================] - 0s 4ms/step - loss: 44901460.0000 - val_loss: 42432300.0000\n",
      "Epoch 90/300\n",
      "37/37 [==============================] - 0s 4ms/step - loss: 44040408.0000 - val_loss: 41812012.0000\n",
      "Epoch 91/300\n",
      "37/37 [==============================] - 0s 3ms/step - loss: 43194812.0000 - val_loss: 40739932.0000\n",
      "Epoch 92/300\n",
      "37/37 [==============================] - 0s 3ms/step - loss: 42360268.0000 - val_loss: 40132300.0000\n",
      "Epoch 93/300\n",
      "37/37 [==============================] - 0s 3ms/step - loss: 41513296.0000 - val_loss: 39635144.0000\n",
      "Epoch 94/300\n",
      "37/37 [==============================] - 0s 3ms/step - loss: 40669004.0000 - val_loss: 38541816.0000\n",
      "Epoch 95/300\n",
      "37/37 [==============================] - 0s 3ms/step - loss: 39873988.0000 - val_loss: 38393544.0000\n",
      "Epoch 96/300\n",
      "37/37 [==============================] - 0s 3ms/step - loss: 39052968.0000 - val_loss: 37516488.0000\n",
      "Epoch 97/300\n",
      "37/37 [==============================] - 0s 3ms/step - loss: 38253008.0000 - val_loss: 36891760.0000\n",
      "Epoch 98/300\n",
      "37/37 [==============================] - 0s 4ms/step - loss: 37453948.0000 - val_loss: 36217480.0000\n",
      "Epoch 99/300\n",
      "37/37 [==============================] - 0s 4ms/step - loss: 36695296.0000 - val_loss: 35367244.0000\n",
      "Epoch 100/300\n",
      "37/37 [==============================] - 0s 4ms/step - loss: 35945456.0000 - val_loss: 34986936.0000\n",
      "Epoch 101/300\n",
      "37/37 [==============================] - 0s 4ms/step - loss: 35227000.0000 - val_loss: 34707988.0000\n",
      "Epoch 102/300\n",
      "37/37 [==============================] - 0s 3ms/step - loss: 34483236.0000 - val_loss: 33757244.0000\n",
      "Epoch 103/300\n",
      "37/37 [==============================] - 0s 4ms/step - loss: 33781240.0000 - val_loss: 33363578.0000\n",
      "Epoch 104/300\n",
      "37/37 [==============================] - 0s 4ms/step - loss: 33118358.0000 - val_loss: 33044536.0000\n",
      "Epoch 105/300\n",
      "37/37 [==============================] - 0s 4ms/step - loss: 32448964.0000 - val_loss: 32393210.0000\n",
      "Epoch 106/300\n",
      "37/37 [==============================] - 0s 4ms/step - loss: 31830904.0000 - val_loss: 31839518.0000\n",
      "Epoch 107/300\n",
      "37/37 [==============================] - 0s 5ms/step - loss: 31237800.0000 - val_loss: 32048792.0000\n",
      "Epoch 108/300\n",
      "37/37 [==============================] - 0s 3ms/step - loss: 30680398.0000 - val_loss: 31460572.0000\n",
      "Epoch 109/300\n",
      "37/37 [==============================] - 0s 3ms/step - loss: 30163894.0000 - val_loss: 30702140.0000\n",
      "Epoch 110/300\n",
      "37/37 [==============================] - 0s 3ms/step - loss: 29685570.0000 - val_loss: 30458090.0000\n",
      "Epoch 111/300\n",
      "37/37 [==============================] - 0s 4ms/step - loss: 29174778.0000 - val_loss: 30893732.0000\n",
      "Epoch 112/300\n",
      "37/37 [==============================] - 0s 4ms/step - loss: 28721102.0000 - val_loss: 29752528.0000\n",
      "Epoch 113/300\n",
      "37/37 [==============================] - 0s 4ms/step - loss: 28375656.0000 - val_loss: 29644706.0000\n",
      "Epoch 114/300\n",
      "37/37 [==============================] - 0s 4ms/step - loss: 27942056.0000 - val_loss: 30358986.0000\n",
      "Epoch 115/300\n",
      "37/37 [==============================] - 0s 3ms/step - loss: 27570398.0000 - val_loss: 29977424.0000\n",
      "Epoch 116/300\n",
      "37/37 [==============================] - 0s 4ms/step - loss: 27203314.0000 - val_loss: 29533982.0000\n",
      "Epoch 117/300\n",
      "37/37 [==============================] - 0s 4ms/step - loss: 26854314.0000 - val_loss: 29371366.0000\n",
      "Epoch 118/300\n",
      "37/37 [==============================] - 0s 3ms/step - loss: 26522748.0000 - val_loss: 29439358.0000\n",
      "Epoch 119/300\n",
      "37/37 [==============================] - 0s 3ms/step - loss: 26209950.0000 - val_loss: 29040896.0000\n",
      "Epoch 120/300\n",
      "37/37 [==============================] - 0s 5ms/step - loss: 25913258.0000 - val_loss: 28939220.0000\n",
      "Epoch 121/300\n",
      "37/37 [==============================] - 0s 4ms/step - loss: 25651630.0000 - val_loss: 28866104.0000\n",
      "Epoch 122/300\n",
      "37/37 [==============================] - 0s 4ms/step - loss: 25373240.0000 - val_loss: 29009904.0000\n",
      "Epoch 123/300\n",
      "37/37 [==============================] - 0s 4ms/step - loss: 25122180.0000 - val_loss: 28412782.0000\n",
      "Epoch 124/300\n",
      "37/37 [==============================] - 0s 4ms/step - loss: 24887596.0000 - val_loss: 28080792.0000\n",
      "Epoch 125/300\n",
      "37/37 [==============================] - 0s 3ms/step - loss: 24678138.0000 - val_loss: 28105072.0000\n",
      "Epoch 126/300\n",
      "37/37 [==============================] - 0s 3ms/step - loss: 24491634.0000 - val_loss: 28056576.0000\n",
      "Epoch 127/300\n",
      "37/37 [==============================] - 0s 4ms/step - loss: 24321270.0000 - val_loss: 28081090.0000\n",
      "Epoch 128/300\n",
      "37/37 [==============================] - 0s 3ms/step - loss: 24127200.0000 - val_loss: 27384972.0000\n",
      "Epoch 129/300\n",
      "37/37 [==============================] - 0s 3ms/step - loss: 23976460.0000 - val_loss: 27720630.0000\n",
      "Epoch 130/300\n",
      "37/37 [==============================] - 0s 3ms/step - loss: 23797990.0000 - val_loss: 27365918.0000\n",
      "Epoch 131/300\n",
      "37/37 [==============================] - 0s 4ms/step - loss: 23655122.0000 - val_loss: 27173730.0000\n",
      "Epoch 132/300\n",
      "37/37 [==============================] - 0s 4ms/step - loss: 23484148.0000 - val_loss: 27746750.0000\n",
      "Epoch 133/300\n",
      "37/37 [==============================] - 0s 3ms/step - loss: 23373302.0000 - val_loss: 28013540.0000\n",
      "Epoch 134/300\n",
      "37/37 [==============================] - 0s 4ms/step - loss: 23253158.0000 - val_loss: 26989878.0000\n",
      "Epoch 135/300\n",
      "37/37 [==============================] - 0s 3ms/step - loss: 23110832.0000 - val_loss: 26594728.0000\n",
      "Epoch 136/300\n",
      "37/37 [==============================] - 0s 4ms/step - loss: 22980296.0000 - val_loss: 27386928.0000\n",
      "Epoch 137/300\n",
      "37/37 [==============================] - 0s 4ms/step - loss: 22883290.0000 - val_loss: 26480454.0000\n",
      "Epoch 138/300\n",
      "37/37 [==============================] - 0s 3ms/step - loss: 22793060.0000 - val_loss: 26759294.0000\n",
      "Epoch 139/300\n",
      "37/37 [==============================] - 0s 4ms/step - loss: 22702748.0000 - val_loss: 26882670.0000\n",
      "Epoch 140/300\n",
      "37/37 [==============================] - 0s 4ms/step - loss: 22626564.0000 - val_loss: 27382080.0000\n",
      "Epoch 141/300\n",
      "37/37 [==============================] - 0s 3ms/step - loss: 22597038.0000 - val_loss: 27586838.0000\n",
      "Epoch 142/300\n",
      "37/37 [==============================] - 0s 4ms/step - loss: 22481730.0000 - val_loss: 26558530.0000\n",
      "Epoch 143/300\n"
     ]
    },
    {
     "name": "stdout",
     "output_type": "stream",
     "text": [
      "37/37 [==============================] - 0s 4ms/step - loss: 22396994.0000 - val_loss: 27379132.0000\n",
      "Epoch 144/300\n",
      "37/37 [==============================] - 0s 4ms/step - loss: 22385388.0000 - val_loss: 26077876.0000\n",
      "Epoch 145/300\n",
      "37/37 [==============================] - 0s 4ms/step - loss: 22291464.0000 - val_loss: 26063270.0000\n",
      "Epoch 146/300\n",
      "37/37 [==============================] - 0s 4ms/step - loss: 22219650.0000 - val_loss: 26259742.0000\n",
      "Epoch 147/300\n",
      "37/37 [==============================] - 0s 2ms/step - loss: 22150916.0000 - val_loss: 26133126.0000\n",
      "Epoch 148/300\n",
      "37/37 [==============================] - 0s 2ms/step - loss: 22065080.0000 - val_loss: 26519622.0000\n",
      "Epoch 149/300\n",
      "37/37 [==============================] - 0s 2ms/step - loss: 22038160.0000 - val_loss: 26722924.0000\n",
      "Epoch 150/300\n",
      "37/37 [==============================] - 0s 2ms/step - loss: 21995410.0000 - val_loss: 26434842.0000\n",
      "Epoch 151/300\n",
      "37/37 [==============================] - 0s 2ms/step - loss: 21900684.0000 - val_loss: 26697436.0000\n",
      "Epoch 152/300\n",
      "37/37 [==============================] - 0s 2ms/step - loss: 21832496.0000 - val_loss: 25979178.0000\n",
      "Epoch 153/300\n",
      "37/37 [==============================] - 0s 2ms/step - loss: 21797670.0000 - val_loss: 26338744.0000\n",
      "Epoch 154/300\n",
      "37/37 [==============================] - 0s 2ms/step - loss: 21733362.0000 - val_loss: 26131650.0000\n",
      "Epoch 155/300\n",
      "37/37 [==============================] - 0s 3ms/step - loss: 21686570.0000 - val_loss: 26531912.0000\n",
      "Epoch 156/300\n",
      "37/37 [==============================] - 0s 4ms/step - loss: 21651570.0000 - val_loss: 25959108.0000\n",
      "Epoch 157/300\n",
      "37/37 [==============================] - 0s 4ms/step - loss: 21591566.0000 - val_loss: 26056440.0000\n",
      "Epoch 158/300\n",
      "37/37 [==============================] - 0s 4ms/step - loss: 21541250.0000 - val_loss: 25492664.0000\n",
      "Epoch 159/300\n",
      "37/37 [==============================] - 0s 4ms/step - loss: 21541638.0000 - val_loss: 25673428.0000\n",
      "Epoch 160/300\n",
      "37/37 [==============================] - 0s 4ms/step - loss: 21451328.0000 - val_loss: 25769098.0000\n",
      "Epoch 161/300\n",
      "37/37 [==============================] - 0s 3ms/step - loss: 21394028.0000 - val_loss: 25512800.0000\n",
      "Epoch 162/300\n",
      "37/37 [==============================] - 0s 4ms/step - loss: 21354492.0000 - val_loss: 25918832.0000\n",
      "Epoch 163/300\n",
      "37/37 [==============================] - 0s 4ms/step - loss: 21318556.0000 - val_loss: 25712006.0000\n",
      "Epoch 164/300\n",
      "37/37 [==============================] - 0s 4ms/step - loss: 21254030.0000 - val_loss: 25549396.0000\n",
      "Epoch 165/300\n",
      "37/37 [==============================] - 0s 4ms/step - loss: 21232432.0000 - val_loss: 25617338.0000\n",
      "Epoch 166/300\n",
      "37/37 [==============================] - 0s 4ms/step - loss: 21163080.0000 - val_loss: 25561282.0000\n",
      "Epoch 167/300\n",
      "37/37 [==============================] - 0s 4ms/step - loss: 21125334.0000 - val_loss: 25801586.0000\n",
      "Epoch 168/300\n",
      "37/37 [==============================] - 0s 4ms/step - loss: 21073774.0000 - val_loss: 25247244.0000\n",
      "Epoch 169/300\n",
      "37/37 [==============================] - 0s 4ms/step - loss: 21034048.0000 - val_loss: 25986396.0000\n",
      "Epoch 170/300\n",
      "37/37 [==============================] - 0s 5ms/step - loss: 21040904.0000 - val_loss: 25485716.0000\n",
      "Epoch 171/300\n",
      "37/37 [==============================] - 0s 4ms/step - loss: 20970032.0000 - val_loss: 25821706.0000\n",
      "Epoch 172/300\n",
      "37/37 [==============================] - 0s 4ms/step - loss: 20929474.0000 - val_loss: 25527680.0000\n",
      "Epoch 173/300\n",
      "37/37 [==============================] - 0s 3ms/step - loss: 20891306.0000 - val_loss: 24924850.0000\n",
      "Epoch 174/300\n",
      "37/37 [==============================] - 0s 4ms/step - loss: 20866272.0000 - val_loss: 25011120.0000\n",
      "Epoch 175/300\n",
      "37/37 [==============================] - 0s 4ms/step - loss: 20805900.0000 - val_loss: 25296092.0000\n",
      "Epoch 176/300\n",
      "37/37 [==============================] - 0s 3ms/step - loss: 20775094.0000 - val_loss: 25209822.0000\n",
      "Epoch 177/300\n",
      "37/37 [==============================] - 0s 4ms/step - loss: 20732578.0000 - val_loss: 24928196.0000\n",
      "Epoch 178/300\n",
      "37/37 [==============================] - 0s 3ms/step - loss: 20704232.0000 - val_loss: 24875710.0000\n",
      "Epoch 179/300\n",
      "37/37 [==============================] - 0s 3ms/step - loss: 20687962.0000 - val_loss: 25014318.0000\n",
      "Epoch 180/300\n",
      "37/37 [==============================] - 0s 3ms/step - loss: 20641750.0000 - val_loss: 25070846.0000\n",
      "Epoch 181/300\n",
      "37/37 [==============================] - 0s 4ms/step - loss: 20620882.0000 - val_loss: 24617432.0000\n",
      "Epoch 182/300\n",
      "37/37 [==============================] - 0s 2ms/step - loss: 20584408.0000 - val_loss: 24601798.0000\n",
      "Epoch 183/300\n",
      "37/37 [==============================] - 0s 4ms/step - loss: 20554376.0000 - val_loss: 24919546.0000\n",
      "Epoch 184/300\n",
      "37/37 [==============================] - 0s 3ms/step - loss: 20510812.0000 - val_loss: 25128720.0000\n",
      "Epoch 185/300\n",
      "37/37 [==============================] - 0s 4ms/step - loss: 20465626.0000 - val_loss: 24523390.0000\n",
      "Epoch 186/300\n",
      "37/37 [==============================] - 0s 4ms/step - loss: 20437830.0000 - val_loss: 24260378.0000\n",
      "Epoch 187/300\n",
      "37/37 [==============================] - 0s 4ms/step - loss: 20410336.0000 - val_loss: 24382760.0000\n",
      "Epoch 188/300\n",
      "37/37 [==============================] - 0s 4ms/step - loss: 20383932.0000 - val_loss: 24261014.0000\n",
      "Epoch 189/300\n",
      "37/37 [==============================] - 0s 4ms/step - loss: 20364334.0000 - val_loss: 24106908.0000\n",
      "Epoch 190/300\n",
      "37/37 [==============================] - 0s 3ms/step - loss: 20351908.0000 - val_loss: 24441958.0000\n",
      "Epoch 191/300\n",
      "37/37 [==============================] - 0s 3ms/step - loss: 20293284.0000 - val_loss: 24250818.0000\n",
      "Epoch 192/300\n",
      "37/37 [==============================] - 0s 5ms/step - loss: 20262906.0000 - val_loss: 24523544.0000\n",
      "Epoch 193/300\n",
      "37/37 [==============================] - 0s 4ms/step - loss: 20227768.0000 - val_loss: 24897490.0000\n",
      "Epoch 194/300\n",
      "37/37 [==============================] - 0s 4ms/step - loss: 20220822.0000 - val_loss: 24477644.0000\n",
      "Epoch 195/300\n",
      "37/37 [==============================] - 0s 4ms/step - loss: 20174680.0000 - val_loss: 23963292.0000\n",
      "Epoch 196/300\n",
      "37/37 [==============================] - 0s 3ms/step - loss: 20165768.0000 - val_loss: 24530004.0000\n",
      "Epoch 197/300\n",
      "37/37 [==============================] - 0s 4ms/step - loss: 20176932.0000 - val_loss: 24393688.0000\n",
      "Epoch 198/300\n",
      "37/37 [==============================] - 0s 4ms/step - loss: 20109936.0000 - val_loss: 24511508.0000\n",
      "Epoch 199/300\n",
      "37/37 [==============================] - 0s 4ms/step - loss: 20094632.0000 - val_loss: 24624072.0000\n",
      "Epoch 200/300\n",
      "37/37 [==============================] - 0s 4ms/step - loss: 20079652.0000 - val_loss: 23933568.0000\n",
      "Epoch 201/300\n",
      "37/37 [==============================] - 0s 3ms/step - loss: 20044330.0000 - val_loss: 24047800.0000\n",
      "Epoch 202/300\n",
      "37/37 [==============================] - 0s 3ms/step - loss: 20030926.0000 - val_loss: 24385326.0000\n",
      "Epoch 203/300\n",
      "37/37 [==============================] - 0s 4ms/step - loss: 19991922.0000 - val_loss: 24058920.0000\n",
      "Epoch 204/300\n",
      "37/37 [==============================] - 0s 4ms/step - loss: 19991742.0000 - val_loss: 23697030.0000\n",
      "Epoch 205/300\n",
      "37/37 [==============================] - 0s 4ms/step - loss: 19962714.0000 - val_loss: 23985438.0000\n",
      "Epoch 206/300\n",
      "37/37 [==============================] - 0s 3ms/step - loss: 19926612.0000 - val_loss: 24830758.0000\n",
      "Epoch 207/300\n",
      "37/37 [==============================] - 0s 5ms/step - loss: 19940536.0000 - val_loss: 24023550.0000\n",
      "Epoch 208/300\n",
      "37/37 [==============================] - 0s 5ms/step - loss: 19892958.0000 - val_loss: 24382714.0000\n",
      "Epoch 209/300\n",
      "37/37 [==============================] - 0s 5ms/step - loss: 19887080.0000 - val_loss: 24342776.0000\n",
      "Epoch 210/300\n",
      "37/37 [==============================] - 0s 4ms/step - loss: 19866672.0000 - val_loss: 24400152.0000\n",
      "Epoch 211/300\n",
      "37/37 [==============================] - 0s 5ms/step - loss: 19837280.0000 - val_loss: 24264334.0000\n",
      "Epoch 212/300\n",
      "37/37 [==============================] - 0s 4ms/step - loss: 19853062.0000 - val_loss: 24042946.0000\n",
      "Epoch 213/300\n",
      "37/37 [==============================] - 0s 5ms/step - loss: 19802360.0000 - val_loss: 24124032.0000\n",
      "Epoch 214/300\n"
     ]
    },
    {
     "name": "stdout",
     "output_type": "stream",
     "text": [
      "37/37 [==============================] - 0s 3ms/step - loss: 19790868.0000 - val_loss: 23856504.0000\n",
      "Epoch 215/300\n",
      "37/37 [==============================] - 0s 4ms/step - loss: 19778536.0000 - val_loss: 24073898.0000\n",
      "Epoch 216/300\n",
      "37/37 [==============================] - 0s 3ms/step - loss: 19769852.0000 - val_loss: 23654928.0000\n",
      "Epoch 217/300\n",
      "37/37 [==============================] - 0s 3ms/step - loss: 19730286.0000 - val_loss: 23875114.0000\n",
      "Epoch 218/300\n",
      "37/37 [==============================] - 0s 3ms/step - loss: 19736288.0000 - val_loss: 24059258.0000\n",
      "Epoch 219/300\n",
      "37/37 [==============================] - 0s 2ms/step - loss: 19721204.0000 - val_loss: 24373880.0000\n",
      "Epoch 220/300\n",
      "37/37 [==============================] - 0s 2ms/step - loss: 19711274.0000 - val_loss: 23615686.0000\n",
      "Epoch 221/300\n",
      "37/37 [==============================] - 0s 2ms/step - loss: 19664954.0000 - val_loss: 23473768.0000\n",
      "Epoch 222/300\n",
      "37/37 [==============================] - 0s 2ms/step - loss: 19651386.0000 - val_loss: 23882828.0000\n",
      "Epoch 223/300\n",
      "37/37 [==============================] - 0s 2ms/step - loss: 19641980.0000 - val_loss: 23807746.0000\n",
      "Epoch 224/300\n",
      "37/37 [==============================] - 0s 3ms/step - loss: 19627858.0000 - val_loss: 23467740.0000\n",
      "Epoch 225/300\n",
      "37/37 [==============================] - 0s 4ms/step - loss: 19629850.0000 - val_loss: 24020798.0000\n",
      "Epoch 226/300\n",
      "37/37 [==============================] - 0s 4ms/step - loss: 19582282.0000 - val_loss: 23388298.0000\n",
      "Epoch 227/300\n",
      "37/37 [==============================] - 0s 5ms/step - loss: 19614520.0000 - val_loss: 23660568.0000\n",
      "Epoch 228/300\n",
      "37/37 [==============================] - 0s 4ms/step - loss: 19569458.0000 - val_loss: 23972734.0000\n",
      "Epoch 229/300\n",
      "37/37 [==============================] - 0s 4ms/step - loss: 19562418.0000 - val_loss: 23350242.0000\n",
      "Epoch 230/300\n",
      "37/37 [==============================] - 0s 4ms/step - loss: 19547974.0000 - val_loss: 24167940.0000\n",
      "Epoch 231/300\n",
      "37/37 [==============================] - 0s 4ms/step - loss: 19532314.0000 - val_loss: 24185900.0000\n",
      "Epoch 232/300\n",
      "37/37 [==============================] - 0s 3ms/step - loss: 19502138.0000 - val_loss: 23650456.0000\n",
      "Epoch 233/300\n",
      "37/37 [==============================] - 0s 3ms/step - loss: 19481882.0000 - val_loss: 23392512.0000\n",
      "Epoch 234/300\n",
      "37/37 [==============================] - 0s 4ms/step - loss: 19475088.0000 - val_loss: 23674878.0000\n",
      "Epoch 235/300\n",
      "37/37 [==============================] - 0s 4ms/step - loss: 19462866.0000 - val_loss: 23809240.0000\n",
      "Epoch 236/300\n",
      "37/37 [==============================] - 0s 4ms/step - loss: 19445034.0000 - val_loss: 23535236.0000\n",
      "Epoch 237/300\n",
      "37/37 [==============================] - 0s 4ms/step - loss: 19448598.0000 - val_loss: 23650482.0000\n",
      "Epoch 238/300\n",
      "37/37 [==============================] - 0s 3ms/step - loss: 19422096.0000 - val_loss: 23072950.0000\n",
      "Epoch 239/300\n",
      "37/37 [==============================] - 0s 5ms/step - loss: 19426768.0000 - val_loss: 23326094.0000\n",
      "Epoch 240/300\n",
      "37/37 [==============================] - 0s 4ms/step - loss: 19385616.0000 - val_loss: 23468552.0000\n",
      "Epoch 241/300\n",
      "37/37 [==============================] - 0s 2ms/step - loss: 19376228.0000 - val_loss: 23392328.0000\n",
      "Epoch 242/300\n",
      "37/37 [==============================] - 0s 2ms/step - loss: 19364326.0000 - val_loss: 23895320.0000\n",
      "Epoch 243/300\n",
      "37/37 [==============================] - 0s 2ms/step - loss: 19359022.0000 - val_loss: 23453200.0000\n",
      "Epoch 244/300\n",
      "37/37 [==============================] - 0s 4ms/step - loss: 19343736.0000 - val_loss: 23052740.0000\n",
      "Epoch 245/300\n",
      "37/37 [==============================] - 0s 4ms/step - loss: 19364810.0000 - val_loss: 23154914.0000\n",
      "Epoch 246/300\n",
      "37/37 [==============================] - 0s 5ms/step - loss: 19325174.0000 - val_loss: 23459522.0000\n",
      "Epoch 247/300\n",
      "37/37 [==============================] - 0s 5ms/step - loss: 19291458.0000 - val_loss: 23589088.0000\n",
      "Epoch 248/300\n",
      "37/37 [==============================] - 0s 5ms/step - loss: 19273652.0000 - val_loss: 23108422.0000\n",
      "Epoch 249/300\n",
      "37/37 [==============================] - 0s 5ms/step - loss: 19291180.0000 - val_loss: 23432552.0000\n",
      "Epoch 250/300\n",
      "37/37 [==============================] - 0s 5ms/step - loss: 19246676.0000 - val_loss: 23163438.0000\n",
      "Epoch 251/300\n",
      "37/37 [==============================] - 0s 4ms/step - loss: 19240204.0000 - val_loss: 23244866.0000\n",
      "Epoch 252/300\n",
      "37/37 [==============================] - 0s 3ms/step - loss: 19276952.0000 - val_loss: 23553806.0000\n",
      "Epoch 253/300\n",
      "37/37 [==============================] - 0s 5ms/step - loss: 19255370.0000 - val_loss: 23657062.0000\n",
      "Epoch 254/300\n",
      "37/37 [==============================] - 0s 5ms/step - loss: 19199254.0000 - val_loss: 23185034.0000\n",
      "Epoch 255/300\n",
      "37/37 [==============================] - 0s 4ms/step - loss: 19222166.0000 - val_loss: 23583154.0000\n",
      "Epoch 256/300\n",
      "37/37 [==============================] - 0s 3ms/step - loss: 19184058.0000 - val_loss: 23295854.0000\n",
      "Epoch 257/300\n",
      "37/37 [==============================] - 0s 3ms/step - loss: 19175442.0000 - val_loss: 23066248.0000\n",
      "Epoch 258/300\n",
      "37/37 [==============================] - 0s 3ms/step - loss: 19164170.0000 - val_loss: 23444964.0000\n",
      "Epoch 259/300\n",
      "37/37 [==============================] - 0s 5ms/step - loss: 19163888.0000 - val_loss: 22930380.0000\n",
      "Epoch 260/300\n",
      "37/37 [==============================] - 0s 5ms/step - loss: 19148152.0000 - val_loss: 22908578.0000\n",
      "Epoch 261/300\n",
      "37/37 [==============================] - 0s 4ms/step - loss: 19143956.0000 - val_loss: 23077052.0000\n",
      "Epoch 262/300\n",
      "37/37 [==============================] - 0s 5ms/step - loss: 19124276.0000 - val_loss: 23319030.0000\n",
      "Epoch 263/300\n",
      "37/37 [==============================] - 0s 5ms/step - loss: 19089304.0000 - val_loss: 22901380.0000\n",
      "Epoch 264/300\n",
      "37/37 [==============================] - 0s 5ms/step - loss: 19100752.0000 - val_loss: 22982564.0000\n",
      "Epoch 265/300\n",
      "37/37 [==============================] - 0s 5ms/step - loss: 19079908.0000 - val_loss: 23532816.0000\n",
      "Epoch 266/300\n",
      "37/37 [==============================] - 0s 4ms/step - loss: 19081478.0000 - val_loss: 22834524.0000\n",
      "Epoch 267/300\n",
      "37/37 [==============================] - 0s 3ms/step - loss: 19068452.0000 - val_loss: 23288684.0000\n",
      "Epoch 268/300\n",
      "37/37 [==============================] - 0s 4ms/step - loss: 19051100.0000 - val_loss: 23270326.0000\n",
      "Epoch 269/300\n",
      "37/37 [==============================] - 0s 3ms/step - loss: 19048674.0000 - val_loss: 23558448.0000\n",
      "Epoch 270/300\n",
      "37/37 [==============================] - 0s 4ms/step - loss: 19011966.0000 - val_loss: 22565472.0000\n",
      "Epoch 271/300\n",
      "37/37 [==============================] - 0s 5ms/step - loss: 19057408.0000 - val_loss: 23003716.0000\n",
      "Epoch 272/300\n",
      "37/37 [==============================] - 0s 5ms/step - loss: 19025932.0000 - val_loss: 22397366.0000\n",
      "Epoch 273/300\n",
      "37/37 [==============================] - 0s 4ms/step - loss: 19018724.0000 - val_loss: 22804616.0000\n",
      "Epoch 274/300\n",
      "37/37 [==============================] - 0s 5ms/step - loss: 18972154.0000 - val_loss: 22602488.0000\n",
      "Epoch 275/300\n",
      "37/37 [==============================] - 0s 5ms/step - loss: 18998010.0000 - val_loss: 22485976.0000\n",
      "Epoch 276/300\n",
      "37/37 [==============================] - 0s 4ms/step - loss: 18979778.0000 - val_loss: 22761454.0000\n",
      "Epoch 277/300\n",
      "37/37 [==============================] - 0s 3ms/step - loss: 18950358.0000 - val_loss: 23184458.0000\n",
      "Epoch 278/300\n",
      "37/37 [==============================] - 0s 3ms/step - loss: 18931658.0000 - val_loss: 23075274.0000\n",
      "Epoch 279/300\n",
      "37/37 [==============================] - 0s 5ms/step - loss: 18918094.0000 - val_loss: 23231762.0000\n",
      "Epoch 280/300\n",
      "37/37 [==============================] - 0s 4ms/step - loss: 18922102.0000 - val_loss: 22968996.0000\n",
      "Epoch 281/300\n",
      "37/37 [==============================] - 0s 3ms/step - loss: 18902720.0000 - val_loss: 22660164.0000\n",
      "Epoch 282/300\n",
      "37/37 [==============================] - 0s 4ms/step - loss: 18885246.0000 - val_loss: 22492970.0000\n",
      "Epoch 283/300\n",
      "37/37 [==============================] - 0s 4ms/step - loss: 18892832.0000 - val_loss: 23060596.0000\n",
      "Epoch 284/300\n",
      "37/37 [==============================] - 0s 5ms/step - loss: 18914518.0000 - val_loss: 22919204.0000\n",
      "Epoch 285/300\n"
     ]
    },
    {
     "name": "stdout",
     "output_type": "stream",
     "text": [
      "37/37 [==============================] - 0s 4ms/step - loss: 18866530.0000 - val_loss: 22491842.0000\n",
      "Epoch 286/300\n",
      "37/37 [==============================] - 0s 5ms/step - loss: 18847806.0000 - val_loss: 22373906.0000\n",
      "Epoch 287/300\n",
      "37/37 [==============================] - 0s 5ms/step - loss: 18843208.0000 - val_loss: 22569466.0000\n",
      "Epoch 288/300\n",
      "37/37 [==============================] - 0s 5ms/step - loss: 18840114.0000 - val_loss: 22815350.0000\n",
      "Epoch 289/300\n",
      "37/37 [==============================] - 0s 4ms/step - loss: 18832644.0000 - val_loss: 22850086.0000\n",
      "Epoch 290/300\n",
      "37/37 [==============================] - 0s 4ms/step - loss: 18831542.0000 - val_loss: 22920038.0000\n",
      "Epoch 291/300\n",
      "37/37 [==============================] - 0s 5ms/step - loss: 18812466.0000 - val_loss: 22768852.0000\n",
      "Epoch 292/300\n",
      "37/37 [==============================] - 0s 5ms/step - loss: 18798946.0000 - val_loss: 23124744.0000\n",
      "Epoch 293/300\n",
      "37/37 [==============================] - 0s 5ms/step - loss: 18802630.0000 - val_loss: 22779332.0000\n",
      "Epoch 294/300\n",
      "37/37 [==============================] - 0s 5ms/step - loss: 18762132.0000 - val_loss: 23315142.0000\n",
      "Epoch 295/300\n",
      "37/37 [==============================] - 0s 4ms/step - loss: 18798792.0000 - val_loss: 23076236.0000\n",
      "Epoch 296/300\n",
      "37/37 [==============================] - 0s 5ms/step - loss: 18745096.0000 - val_loss: 22321016.0000\n",
      "Epoch 297/300\n",
      "37/37 [==============================] - 0s 4ms/step - loss: 18753780.0000 - val_loss: 21955344.0000\n",
      "Epoch 298/300\n",
      "37/37 [==============================] - 0s 2ms/step - loss: 18761954.0000 - val_loss: 22451284.0000\n",
      "Epoch 299/300\n",
      "37/37 [==============================] - 0s 2ms/step - loss: 18739242.0000 - val_loss: 22373710.0000\n",
      "Epoch 300/300\n",
      "37/37 [==============================] - 0s 3ms/step - loss: 18757232.0000 - val_loss: 22231906.0000\n"
     ]
    },
    {
     "data": {
      "text/plain": [
       "<tensorflow.python.keras.callbacks.History at 0x13e74309160>"
      ]
     },
     "execution_count": 164,
     "metadata": {},
     "output_type": "execute_result"
    }
   ],
   "source": [
    "#datayı modele bi anda vermek modelimizi yoracaktır bachler halinde vermeliyiz\n",
    "#batch_size'ı çok düşük verirsen yapması çok uzun sürebilir\n",
    "#epocs'u çok düşük veya yüksek vermek modelimizin işleyişini bozabilir\n",
    "#modeli eğitirken validate edebiliyoruz.\n",
    "\n",
    "model.fit(x=x_train, y=y_train, validation_data=(x_test, y_test), batch_size=250,epochs=300) \n"
   ]
  },
  {
   "cell_type": "code",
   "execution_count": 165,
   "id": "be38b85c",
   "metadata": {},
   "outputs": [],
   "source": [
    "kayipVerisi=pd.DataFrame(model.history.history)"
   ]
  },
  {
   "cell_type": "code",
   "execution_count": 166,
   "id": "573b5091",
   "metadata": {},
   "outputs": [
    {
     "data": {
      "text/html": [
       "<div>\n",
       "<style scoped>\n",
       "    .dataframe tbody tr th:only-of-type {\n",
       "        vertical-align: middle;\n",
       "    }\n",
       "\n",
       "    .dataframe tbody tr th {\n",
       "        vertical-align: top;\n",
       "    }\n",
       "\n",
       "    .dataframe thead th {\n",
       "        text-align: right;\n",
       "    }\n",
       "</style>\n",
       "<table border=\"1\" class=\"dataframe\">\n",
       "  <thead>\n",
       "    <tr style=\"text-align: right;\">\n",
       "      <th></th>\n",
       "      <th>loss</th>\n",
       "      <th>val_loss</th>\n",
       "    </tr>\n",
       "  </thead>\n",
       "  <tbody>\n",
       "    <tr>\n",
       "      <th>0</th>\n",
       "      <td>672140800.0</td>\n",
       "      <td>688095616.0</td>\n",
       "    </tr>\n",
       "    <tr>\n",
       "      <th>1</th>\n",
       "      <td>672111552.0</td>\n",
       "      <td>688045248.0</td>\n",
       "    </tr>\n",
       "    <tr>\n",
       "      <th>2</th>\n",
       "      <td>672016448.0</td>\n",
       "      <td>687865024.0</td>\n",
       "    </tr>\n",
       "    <tr>\n",
       "      <th>3</th>\n",
       "      <td>671654208.0</td>\n",
       "      <td>687187712.0</td>\n",
       "    </tr>\n",
       "    <tr>\n",
       "      <th>4</th>\n",
       "      <td>670468736.0</td>\n",
       "      <td>685171264.0</td>\n",
       "    </tr>\n",
       "  </tbody>\n",
       "</table>\n",
       "</div>"
      ],
      "text/plain": [
       "          loss     val_loss\n",
       "0  672140800.0  688095616.0\n",
       "1  672111552.0  688045248.0\n",
       "2  672016448.0  687865024.0\n",
       "3  671654208.0  687187712.0\n",
       "4  670468736.0  685171264.0"
      ]
     },
     "execution_count": 166,
     "metadata": {},
     "output_type": "execute_result"
    }
   ],
   "source": [
    "kayipVerisi.head()"
   ]
  },
  {
   "cell_type": "code",
   "execution_count": 167,
   "id": "22b5bd64",
   "metadata": {},
   "outputs": [
    {
     "data": {
      "text/plain": [
       "<AxesSubplot:>"
      ]
     },
     "execution_count": 167,
     "metadata": {},
     "output_type": "execute_result"
    },
    {
     "data": {
      "image/png": "[encoded data removed]",
      "text/plain": [
       "<Figure size 432x288 with 1 Axes>"
      ]
     },
     "metadata": {
      "needs_background": "light"
     },
     "output_type": "display_data"
    }
   ],
   "source": [
    "kayipVerisi.plot()"
   ]
  },
  {
   "cell_type": "markdown",
   "id": "08fa0597",
   "metadata": {},
   "source": [
    "- Bakmamız gereken ilk şey azalıyor mu? \n",
    "- loss ve val_los birlikte hareket ediyor mu? özellikle sonlara doğru\n",
    "** eğer belirli bir yerden sonra loss ve val_loss birbirinden ayrılıyorsa overfitting yapıyor olabiliriz epocs'u azaltmayı deneyebiliriz"
   ]
  },
  {
   "cell_type": "code",
   "execution_count": 168,
   "id": "75299f21",
   "metadata": {},
   "outputs": [],
   "source": [
    "from sklearn.metrics import mean_squared_error, mean_absolute_error"
   ]
  },
  {
   "cell_type": "code",
   "execution_count": 169,
   "id": "a801f1ca",
   "metadata": {},
   "outputs": [],
   "source": [
    "tahminDizisi=model.predict(x_test)"
   ]
  },
  {
   "cell_type": "code",
   "execution_count": 170,
   "id": "db97568b",
   "metadata": {},
   "outputs": [
    {
     "data": {
      "text/plain": [
       "3332.5694724795817"
      ]
     },
     "execution_count": 170,
     "metadata": {},
     "output_type": "execute_result"
    }
   ],
   "source": [
    "mean_absolute_error(y_test,tahminDizisi)"
   ]
  },
  {
   "cell_type": "markdown",
   "id": "60928d70",
   "metadata": {},
   "source": [
    "3332 lık bir fark var. Yani gerçek fiyattan bu kadar sapabiliriz demek oluyor. "
   ]
  },
  {
   "cell_type": "code",
   "execution_count": 171,
   "id": "1fcab424",
   "metadata": {},
   "outputs": [
    {
     "data": {
      "text/html": [
       "<div>\n",
       "<style scoped>\n",
       "    .dataframe tbody tr th:only-of-type {\n",
       "        vertical-align: middle;\n",
       "    }\n",
       "\n",
       "    .dataframe tbody tr th {\n",
       "        vertical-align: top;\n",
       "    }\n",
       "\n",
       "    .dataframe thead th {\n",
       "        text-align: right;\n",
       "    }\n",
       "</style>\n",
       "<table border=\"1\" class=\"dataframe\">\n",
       "  <thead>\n",
       "    <tr style=\"text-align: right;\">\n",
       "      <th></th>\n",
       "      <th>year</th>\n",
       "      <th>price</th>\n",
       "      <th>mileage</th>\n",
       "      <th>tax</th>\n",
       "      <th>mpg</th>\n",
       "      <th>engineSize</th>\n",
       "    </tr>\n",
       "  </thead>\n",
       "  <tbody>\n",
       "    <tr>\n",
       "      <th>count</th>\n",
       "      <td>12987.000000</td>\n",
       "      <td>12987.000000</td>\n",
       "      <td>12987.000000</td>\n",
       "      <td>12987.000000</td>\n",
       "      <td>12987.000000</td>\n",
       "      <td>12987.000000</td>\n",
       "    </tr>\n",
       "    <tr>\n",
       "      <th>mean</th>\n",
       "      <td>2017.285516</td>\n",
       "      <td>24074.855779</td>\n",
       "      <td>22133.367367</td>\n",
       "      <td>129.676215</td>\n",
       "      <td>55.438392</td>\n",
       "      <td>2.051059</td>\n",
       "    </tr>\n",
       "    <tr>\n",
       "      <th>std</th>\n",
       "      <td>2.189633</td>\n",
       "      <td>9866.601115</td>\n",
       "      <td>21197.472376</td>\n",
       "      <td>65.167429</td>\n",
       "      <td>15.025902</td>\n",
       "      <td>0.532313</td>\n",
       "    </tr>\n",
       "    <tr>\n",
       "      <th>min</th>\n",
       "      <td>1997.000000</td>\n",
       "      <td>650.000000</td>\n",
       "      <td>1.000000</td>\n",
       "      <td>0.000000</td>\n",
       "      <td>1.100000</td>\n",
       "      <td>0.000000</td>\n",
       "    </tr>\n",
       "    <tr>\n",
       "      <th>25%</th>\n",
       "      <td>2016.000000</td>\n",
       "      <td>17355.000000</td>\n",
       "      <td>6320.000000</td>\n",
       "      <td>125.000000</td>\n",
       "      <td>45.600000</td>\n",
       "      <td>1.700000</td>\n",
       "    </tr>\n",
       "    <tr>\n",
       "      <th>50%</th>\n",
       "      <td>2018.000000</td>\n",
       "      <td>22299.000000</td>\n",
       "      <td>15371.000000</td>\n",
       "      <td>145.000000</td>\n",
       "      <td>56.500000</td>\n",
       "      <td>2.000000</td>\n",
       "    </tr>\n",
       "    <tr>\n",
       "      <th>75%</th>\n",
       "      <td>2019.000000</td>\n",
       "      <td>28706.000000</td>\n",
       "      <td>31986.500000</td>\n",
       "      <td>145.000000</td>\n",
       "      <td>64.200000</td>\n",
       "      <td>2.100000</td>\n",
       "    </tr>\n",
       "    <tr>\n",
       "      <th>max</th>\n",
       "      <td>2020.000000</td>\n",
       "      <td>65990.000000</td>\n",
       "      <td>259000.000000</td>\n",
       "      <td>580.000000</td>\n",
       "      <td>217.300000</td>\n",
       "      <td>6.200000</td>\n",
       "    </tr>\n",
       "  </tbody>\n",
       "</table>\n",
       "</div>"
      ],
      "text/plain": [
       "               year         price        mileage           tax           mpg  \\\n",
       "count  12987.000000  12987.000000   12987.000000  12987.000000  12987.000000   \n",
       "mean    2017.285516  24074.855779   22133.367367    129.676215     55.438392   \n",
       "std        2.189633   9866.601115   21197.472376     65.167429     15.025902   \n",
       "min     1997.000000    650.000000       1.000000      0.000000      1.100000   \n",
       "25%     2016.000000  17355.000000    6320.000000    125.000000     45.600000   \n",
       "50%     2018.000000  22299.000000   15371.000000    145.000000     56.500000   \n",
       "75%     2019.000000  28706.000000   31986.500000    145.000000     64.200000   \n",
       "max     2020.000000  65990.000000  259000.000000    580.000000    217.300000   \n",
       "\n",
       "         engineSize  \n",
       "count  12987.000000  \n",
       "mean       2.051059  \n",
       "std        0.532313  \n",
       "min        0.000000  \n",
       "25%        1.700000  \n",
       "50%        2.000000  \n",
       "75%        2.100000  \n",
       "max        6.200000  "
      ]
     },
     "execution_count": 171,
     "metadata": {},
     "output_type": "execute_result"
    }
   ],
   "source": [
    "dataFrame.describe()"
   ]
  },
  {
   "cell_type": "markdown",
   "id": "264e5d75",
   "metadata": {},
   "source": [
    "3332/24074=0.13... %13lük bir fark var"
   ]
  },
  {
   "cell_type": "code",
   "execution_count": 172,
   "id": "695ac493",
   "metadata": {},
   "outputs": [
    {
     "data": {
      "text/plain": [
       "[<matplotlib.lines.Line2D at 0x13e75921730>]"
      ]
     },
     "execution_count": 172,
     "metadata": {},
     "output_type": "execute_result"
    },
    {
     "data": {
      "image/png": "[encoded data removed]",
      "text/plain": [
       "<Figure size 432x288 with 1 Axes>"
      ]
     },
     "metadata": {
      "needs_background": "light"
     },
     "output_type": "display_data"
    }
   ],
   "source": [
    "plt.scatter(y_test,tahminDizisi)\n",
    "plt.plot(y_test,y_test,\"g-*\")"
   ]
  },
  {
   "cell_type": "markdown",
   "id": "0b4f77f1",
   "metadata": {},
   "source": [
    "Hemen hemen düzgün bir lineer regresyon bulmuşuz gibi gözüküyor ama sapmalar da mevcut. DataFrame'imizde varolan bir fiyat üzerinde deneme yapalım:"
   ]
  },
  {
   "cell_type": "code",
   "execution_count": 174,
   "id": "23c457a7",
   "metadata": {},
   "outputs": [
    {
     "data": {
      "text/plain": [
       "year           2020.0\n",
       "price         65980.0\n",
       "mileage        3999.0\n",
       "tax             145.0\n",
       "mpg              28.0\n",
       "engineSize        4.0\n",
       "Name: 3191, dtype: float64"
      ]
     },
     "execution_count": 174,
     "metadata": {},
     "output_type": "execute_result"
    }
   ],
   "source": [
    "dataFrame.iloc[2]"
   ]
  },
  {
   "cell_type": "code",
   "execution_count": 175,
   "id": "031fd90c",
   "metadata": {},
   "outputs": [],
   "source": [
    "yeniArabaSeries=dataFrame.drop(\"price\",axis=1).iloc[2]"
   ]
  },
  {
   "cell_type": "code",
   "execution_count": 176,
   "id": "0eb85fda",
   "metadata": {},
   "outputs": [
    {
     "data": {
      "text/plain": [
       "pandas.core.series.Series"
      ]
     },
     "execution_count": 176,
     "metadata": {},
     "output_type": "execute_result"
    }
   ],
   "source": [
    "type(yeniArabaSeries)"
   ]
  },
  {
   "cell_type": "code",
   "execution_count": 177,
   "id": "f503b899",
   "metadata": {},
   "outputs": [],
   "source": [
    "yeniArabaSeries=scaler.transform(yeniArabaSeries.values.reshape(-1,5))"
   ]
  },
  {
   "cell_type": "code",
   "execution_count": 178,
   "id": "62d011dd",
   "metadata": {},
   "outputs": [
    {
     "data": {
      "text/plain": [
       "array([[62474.957]], dtype=float32)"
      ]
     },
     "execution_count": 178,
     "metadata": {},
     "output_type": "execute_result"
    }
   ],
   "source": [
    "model.predict(yeniArabaSeries)"
   ]
  },
  {
   "cell_type": "markdown",
   "id": "7571c8ab",
   "metadata": {},
   "source": [
    "normalde 65980di bizim eğittiğimiz modelde 62474 çıktı"
   ]
  },
  {
   "cell_type": "code",
   "execution_count": null,
   "id": "9747f9f6",
   "metadata": {},
   "outputs": [],
   "source": []
  }
 ],
 "metadata": {
  "kernelspec": {
   "display_name": "Python 3",
   "language": "python",
   "name": "python3"
  },
  "language_info": {
   "codemirror_mode": {
    "name": "ipython",
    "version": 3
   },
   "file_extension": ".py",
   "mimetype": "text/x-python",
   "name": "python",
   "nbconvert_exporter": "python",
   "pygments_lexer": "ipython3",
   "version": "3.8.8"
  }
 },
 "nbformat": 4,
 "nbformat_minor": 5
}
